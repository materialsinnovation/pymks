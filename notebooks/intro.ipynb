{
 "metadata": {
  "name": "",
  "signature": "sha256:d74b54da3e429b9965ca5cd7794d7d46d734ed6bf13b41bf664724dc0a386340"
 },
 "nbformat": 3,
 "nbformat_minor": 0,
 "worksheets": [
  {
   "cells": [
    {
     "cell_type": "markdown",
     "metadata": {},
     "source": [
      "## Technical Overview\n",
      "\n",
      "An important component of the MKS is the regression technique for rapid calculation of a response field $p\\left[i\\right]$ based on a microstructure $m\\left[i\\right]$, where $i$ refers to a discretized spatial location often in 2D or 3D and $\\left[\\cdot\\right]$ indicates a discrete argument over the spatial domain. For example, the microstructure might represent values of material properties that vary based on phase such as elastic modulus or Poisson's ratio while the response might be the stress or strain field.\n",
      "\n",
      "### Discretize in State Space\n",
      "\n",
      "The first step in the MKS is to bin (or discretize) the state space. To do this, the microstructure $m$ is discretized and then represented by $m_h$ such that\n",
      "\n",
      "$$ m\\left[i\\right] = \\sum_{h=0}^{n-1} m_h\\left[i\\right] \\chi_h $$\n",
      "\n",
      "where $\\chi_h$ is the basis representation for the microstructure and $n$ is the number of states. For example if $m \\left[i\\right] = (0, 2, 1)$, and $n=3$, then $\\chi_h = (0, 1, 2)$ and $m_h[i] = ((1, 0, 0), (0, 0, 1), (0, 1, 0))$. Thus,\n",
      "\n",
      "$$ m_h = \\delta_{hm} $$\n",
      "\n",
      "since the $m$'s are just indices representing the state (the $\\left[i\\right]$ has been dropped)."
     ]
    },
    {
     "cell_type": "markdown",
     "metadata": {},
     "source": [
      "### The Influence Coefficients\n",
      "\n",
      "Once the state space is discretized, the relationship between the response $p$ and microstructure $m_h$ can be written as,\n",
      "\n",
      "$$ p\\left[i\\right] = \\sum_{h=0}^{n-1} \\alpha_h\\left[j\\right] m_h\\left[i - j\\right] $$\n",
      "\n",
      "where the $\\alpha_h$ are known as the influence coefficients and describe the relationship between $p$ and $m_h$. The $p$ are a spatial convolution of $\\alpha_h$ and $m_h$. In general, it is assumed that both $m_h$ and $p$ are periodic.\n",
      "\n",
      "*** Note that the formulation above has dropped an index representing the samples for simplicity. Generally the MKS is calibrated using many samples. ***"
     ]
    },
    {
     "cell_type": "markdown",
     "metadata": {},
     "source": [
      "### The Convolution\n",
      "\n",
      "The efficiency of the MKS is due to solving the linear regression in Fourier space. For a 2D problem of size $N^2$, the size of the regression is reduced\n",
      "from $ \\left(N^2 N_{\\text{sample}} \\times N^2 H \\right)$ to\n",
      "$\\left(N_{\\text{sample}} \\times H \\right)$ for each point in the\n",
      "Fourier space of size $N^2$. The convolution,\n",
      "\n",
      "  $$ \\sum_{h=0}^{n-1} \\alpha_h\\left[j\\right] m_h \\left[i - j\\right] $$\n",
      "  \n",
      "can be deconvolved in Fourier space using the [circular convolution theorem](http://en.wikipedia.org/wiki/Discrete_Fourier_transform#Circular_convolution_theorem_and_cross-correlation_theorem).\n",
      "\n",
      "If we write $P \\left[k \\right] =\n",
      " \\mathcal{F}_k \\{ p\\left[i\\right] \\}$, $M_h \\left[k\\right]= \\mathcal{F}_k\n",
      " \\{ m_h\\left[i\\right] \\}$ and $\\beta\\left[k\\right] = \\mathcal{F}_k \\{\n",
      " \\alpha_h \\left[i\\right] \\}$, then we just need to solve\n",
      " \n",
      " \n",
      "   $$ P\\left[k\\right] = \\sum_{h=0}^{n-1} \\beta_h \\left[k\\right] M_h \\left[k\\right] $$\n",
      "   \n",
      "with a linear regression at each discretization location in $k$ to calculate the $\\beta_h$.\n",
      "\n",
      "#### Note about Notation\n",
      "\n",
      "Throughout PyMKS, the notation follows the signal processing convention of using square brackets [] for discrete variables and round () brackets for continuous variables. As an example, let $x$ be a continous variable and $x_i$ be a discrete value of $x$ at location $i$. Then the discrete and continous version of a function $h$ have the following relationship,\n",
      "\n",
      "$$ h[i] = h(x_i) $$\n",
      "\n",
      "A discrete convolution also has an implied sumation on repeated indicies,\n",
      "\n",
      "$$ h[i] = h(x_i) = \\sum_j f(x_j) g(x_i - x_j) = \\sum_j f[j] g[i - j] = f[j] g[i - j] $$\n"
     ]
    },
    {
     "cell_type": "markdown",
     "metadata": {},
     "source": [
      "## A PyMKS Example\n",
      "\n",
      "One important application of the MKS is to accurately and rapidly reproduce simulations for any given microstructure. In order to do this we need to instantiate a `MKSRegressionModel` and calibrate the influence coefficients using the `fit` method. Once the influence coefficients have been calibrated, the `predict` method can be used to quickly reproduce the same simulation for any microstructure. The rest of the page will demonstrate how to do this for a finite element simulation for linear elastic strain.\n",
      "\n",
      "## Linear Elasticity\n",
      "\n",
      "Let's start by running a finite element simulation on a two phase random microstructure with different elastic moduli. The `ElasticFESimulation` class encapsulates the code needed to run a plain strain problem using SfePy. It solves a plain strain problem on a square domain by straining in the x-direction and applying periodic boundary conditions in the y-direction. The two phase microstructure is represented by `X`.\n",
      "\n",
      "The `make_elasticFEstrain_random` function from `pymks.datasets` provides a convenient interface to get random microstructures and their strain fields using the `ElasticFESimulation` class. In this case we are going to look at a 15 by 15 two phase microstructure with values of elasic modulus values of 80 and 120. Both phases will have a Poisson's ratio of 0.3."
     ]
    },
    {
     "cell_type": "code",
     "collapsed": false,
     "input": [
      "%matplotlib inline\n",
      "%load_ext autoreload\n",
      "%autoreload 2\n",
      "\n",
      "import numpy as np\n",
      "import matplotlib.pyplot as plt"
     ],
     "language": "python",
     "metadata": {},
     "outputs": [],
     "prompt_number": 1
    },
    {
     "cell_type": "code",
     "collapsed": false,
     "input": [
      "from pymks.tools import draw_microstructure_strain\n",
      "from pymks.datasets import make_elastic_FE_strain_random\n",
      "\n",
      "np.random.seed(21)\n",
      "X, strains = make_elastic_FE_strain_random(n_samples=1, elastic_modulus=(80, 120),\n",
      "                                           poissons_ratio=(0.3, 0.3), size=(15, 15))\n",
      "\n",
      "draw_microstructure_strain(X[0], strains[0])"
     ],
     "language": "python",
     "metadata": {},
     "outputs": [
      {
       "metadata": {},
       "output_type": "display_data",
       "png": "[encoded data removed]",
       "text": [
        "<matplotlib.figure.Figure at 0x7fd6be4bc550>"
       ]
      }
     ],
     "prompt_number": 3
    },
    {
     "cell_type": "markdown",
     "metadata": {},
     "source": [
      "### Create the Delta Microstructures\n",
      "\n",
      "The goal of the MKS it to quickly reproduce finite element simulations like the one shown above. In the case of linear elasticity, which has distinct phases, the MKS model can be calibrated with two delta microstructures rather than hundreds of random microstructures. The `make_delta_microstructures` function from `pymks.datasets` provides a convenient interface to produce the delta microstructures."
     ]
    },
    {
     "cell_type": "code",
     "collapsed": false,
     "input": [
      "from pymks.tools import draw_microstructures\n",
      "from pymks.datasets import make_delta_microstructures\n",
      "\n",
      "X_delta = make_delta_microstructures(n_phases=2, size=(15, 15))\n",
      "draw_microstructures(X_delta[0], X_delta[1])"
     ],
     "language": "python",
     "metadata": {},
     "outputs": [
      {
       "metadata": {},
       "output_type": "display_data",
       "png": "[encoded data removed]",
       "text": [
        "<matplotlib.figure.Figure at 0x7fd6c0b06490>"
       ]
      }
     ],
     "prompt_number": 4
    },
    {
     "cell_type": "markdown",
     "metadata": {},
     "source": [
      "### Create the Responses\n",
      "\n",
      "The `make_elasticFEstrain_delta` function from the `datasets` submodule of `pymks` returns both the delta microstructure and the strain field. The strain fields and microstructures are used as inputs to calibrate the influence coefficients. "
     ]
    },
    {
     "cell_type": "code",
     "collapsed": false,
     "input": [
      "from pymks.datasets import make_elastic_FE_strain_delta\n",
      "\n",
      "X_delta, strains_delta = make_elastic_FE_strain_delta(elastic_modulus=(80, 120),\n",
      "                                                      poissons_ratio=(0.3, 0.3),\n",
      "                                                      size=(15, 15))\n",
      "\n",
      "draw_microstructure_strain(X_delta[0], strains_delta[0])"
     ],
     "language": "python",
     "metadata": {},
     "outputs": [
      {
       "metadata": {},
       "output_type": "display_data",
       "png": "[encoded data removed]",
       "text": [
        "<matplotlib.figure.Figure at 0x7fd6bf0ecfd0>"
       ]
      }
     ],
     "prompt_number": 5
    },
    {
     "cell_type": "markdown",
     "metadata": {},
     "source": [
      "### Calibrate the MKS Model\n",
      "\n",
      "The first step is to calibrate the influence coefficients using the microstructures and strain fields returned by `make_elasticFEstrain_delta`. The `MKSRegressionModel` calibrates the model in the `fit` method. A `DiscreteIndicatorBasis` is needed to discretize the microstructure before passing it to the `fit` method. "
     ]
    },
    {
     "cell_type": "code",
     "collapsed": false,
     "input": [
      "from pymks import MKSRegressionModel\n",
      "from pymks.bases import DiscreteIndicatorBasis\n",
      "\n",
      "basis = DiscreteIndicatorBasis(n_states=2)\n",
      "\n",
      "X_delta, y_delta = X_delta, strains_delta\n",
      "model = MKSRegressionModel(basis=basis)\n",
      "model.fit(X_delta, y_delta)"
     ],
     "language": "python",
     "metadata": {},
     "outputs": [],
     "prompt_number": 6
    },
    {
     "cell_type": "markdown",
     "metadata": {},
     "source": [
      "### Reproduce the Finite Element Simulation\n",
      "\n",
      "Now that the influence coefficients have been calibrated using the `fit` method, the original finite element simulation can be reproduced using the `MKSRegressionmModel` by passing the original microstructure into the `predict` method."
     ]
    },
    {
     "cell_type": "code",
     "collapsed": false,
     "input": [
      "from pymks.tools import draw_strains_compare\n",
      "\n",
      "X, y = X, strains\n",
      "y_pred = model.predict(X)\n",
      "draw_strains_compare(y[0], y_pred[0]);"
     ],
     "language": "python",
     "metadata": {},
     "outputs": [
      {
       "metadata": {},
       "output_type": "display_data",
       "png": "[encoded data removed]",
       "text": [
        "<matplotlib.figure.Figure at 0x7fd6be1cf490>"
       ]
      }
     ],
     "prompt_number": 7
    },
    {
     "cell_type": "markdown",
     "metadata": {},
     "source": [
      "The `MKSRegressionModel` has done quite a good job of predicting the results from the original FE simulation after calibrating the influence coefficients using delta microstructures."
     ]
    },
    {
     "cell_type": "markdown",
     "metadata": {},
     "source": [
      "###Comments\n",
      "\n",
      "The MKS coefficients can then be scaled up to reproduce larger FE simulations using only the small FE simulation to seed the MKS model."
     ]
    }
   ],
   "metadata": {}
  }
 ]
}