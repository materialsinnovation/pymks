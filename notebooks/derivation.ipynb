{
 "cells": [
  {
   "cell_type": "markdown",
   "metadata": {},
   "source": [
    "#Derivation of MKS Localization Equation\n",
    "\n",
    "The goal of this notebook is to derivate the Materials Knowledge Systems (MKS) equation from elastostatic equilibrium equation. Note that the MKS equation can be derivated from other partial differential equations."
   ]
  },
  {
   "cell_type": "markdown",
   "metadata": {},
   "source": [
    "### Definitions\n",
    "\n",
    "Let $C(x)$ be the local stiffness tensor for a two-phase material with stiffness tensors $C_A$ and $C_B$. The stiffness tensor at location $x$ can be represented at a perturbation from a reference stiffness tensor.\n",
    "\n",
    "$$C(x) = C^R + C'(x)$$\n",
    "\n",
    "The strain field at location $(x)$ can also be defined in terms of a simular perturbation.\n",
    "\n",
    "$$\\varepsilon(x) = \\bar{\\varepsilon} + \\varepsilon '(x)$$\n",
    "\n",
    "where $\\bar{\\varepsilon}$ is the average strain and $\\varepsilon '(x)$ is the local strain perturbation from $\\bar{\\varepsilon}$.\n",
    "\n",
    "The constitutive equation is therefore\n",
    "\n",
    "$$\\sigma_{ij}(x) = \\big(C^R_{ijlk} + C'_{ijlk}(x) \\big ) \\big (\\bar{\\varepsilon}_{lk} + \\varepsilon'_{lk}(x) \\big )$$"
   ]
  },
  {
   "cell_type": "markdown",
   "metadata": {},
   "source": [
    "### Equilibrium Condition\n",
    "\n",
    "The equilibrium condition is defined below:\n",
    "\n",
    "$$\\sigma_{ij,j}(x) = \\Big [\\big(C^R_{ijlk} + C'_{ijlk}(x) \\big ) \\big (\\bar{\\varepsilon}_{lk} + \\varepsilon'_{lk}(x) \\big )\\Big ]_{,j} = 0$$\n",
    "\n",
    "$$\\sigma_{ij,j}(x) = C^R_{ijlk}\\varepsilon'_{lk,j}(x) + C'_{ijlk,j}(x)\\bar{\\varepsilon}_{lk} + \\Big [C'_{ijlk}(x) \\varepsilon'_{lk}(x)\\Big ]_{,j} = 0$$\n",
    "\n",
    "Let\n",
    "\n",
    "$$F_i(x) = C'_{ijlk,j}(x)\\bar{\\varepsilon}_{lk} + \\Big [C'_{ijlk}(x) \\varepsilon'_{lk}(x)\\Big ]_{,j} $$\n",
    "\n",
    "Using the definition of $F(x)$ above, the equilibrium equation above can be rearranged in the form of an inhomogenous differential equation. \n",
    "\n",
    "$$C^R_{ijlk}\\varepsilon'_{lk,j}(x) + F_i(x) = 0$$\n"
   ]
  },
  {
   "cell_type": "markdown",
   "metadata": {},
   "source": [
    "###Strain, Displacement, and Green's Functions\n",
    "\n",
    "By using the relationship between strain and displacement, the equilibrium equation can be rewritten as follows:\n",
    "\n",
    "$$ \\varepsilon_{kl}(x) = \\frac{\\big (u_{k,l}(x) + u_{l,k}(x) \\big)}{2} $$\n",
    "\n",
    "$$C^R_{ijkl} \\frac{\\big (u'_{k,lj}(x) + u'_{l,kj}(x) \\big)}{2} + F_i(x) = 0$$\n",
    "\n",
    "The solution to the displacements can be found using Green's functions:\n",
    "\n",
    "$$C^R_{ijkl} G_{km,lj}(r) + \\delta_{im}\\delta(x-r) = 0$$\n",
    "\n",
    "$$u'_k(x) = \\int_V  G_{ik}(r) F_i (x-r)dr = \\int_V G_{ik}(r) \\Big [C'_{ijlk}(x-r)\\bar{\\varepsilon}_{lk} + \\big [C'_{ijlk}(x-r)\\varepsilon'_{lk}(x-r)\\big ]\\Big ]_{,j}dr$$\n",
    "\n",
    "and\n",
    "\n",
    "$$u'_l(x) = \\int_V  G_{il}(r) F_i (x - r)dr = \\int_V G_{ik}(r) \\Big [C'_{ijlk}(x-r)\\bar{\\varepsilon}_{lk} + \\big [C'_{ijlk}(x-r)\\varepsilon'_{lk}(x-r)\\big ]\\Big ]_{,j}dr$$\n",
    "\n",
    "Therefore, the strain can also be found in terms of Green's functions:\n",
    "\n",
    "$$\\varepsilon'_{kl}(x) = \\int_V \\frac{\\big (G_{ik,l}(r) + G_{il,k}(r) \\big)}{2}  F_i (x-r)dr = \\int_V \\frac{\\big (G_{ik,l}(r) + G_{il,k}(r) \\big)}{2} \\Big [C'_{ijlk}(x-r)\\bar{\\varepsilon}_{lk} + \\big [C'_{ijlk}(x-r)\\varepsilon'_{lk}(x-r)\\big ]\\Big ]_{,j}dr$$\n",
    "\n",
    "\n",
    "Note that the $G(r)$ terms depend on the reference medium $C^R$."
   ]
  },
  {
   "cell_type": "markdown",
   "metadata": {},
   "source": [
    "### Integration by Parts\n",
    "\n",
    "The equation above can be recast with all of the derivatives on the Green's functions by integrating by parts.\n",
    "\n",
    "$$\n",
    "\\varepsilon'_{kl}(x) = \\Bigg [ \\int_S \\frac{\\big (G_{ik,l}(r) + G_{il,k}(r) \\big)}{2} \\Big [C'_{ijlk}(x-r)\\bar{\\varepsilon}_{lk} + \\big [C'_{ijlk}(x-r)\\varepsilon'_{lk}(x-r)\\big ]\\Big ] n_j dS\\Bigg ]_{r \\rightarrow 0}^{r \\rightarrow \\infty} - $$ \n",
    "\n",
    "$$ \\int_V \\frac{\\big (G_{ik,lj}(r) + G_{il,kj}(r) \\big)}{2} \\Big [C'_{ijlk}(x-r)\\bar{\\varepsilon}_{lk} + \\big [C'_{ijlk}(x-r)\\varepsilon'_{lk}(x-r)\\big ]\\Big ]dr\n",
    "$$"
   ]
  },
  {
   "cell_type": "markdown",
   "metadata": {},
   "source": [
    "###Principal Value Singularity\n",
    "\n",
    "In the equation above, the surface term, tending to zero, is a principal value integral, because of the singularity in the Green's functions at $r = 0$. As a result, the integrand is not differentiable. Torquato shows that, by excluding a sphere at the origin and using integration by parts and the divergence theorem, we can arrive at the following equation [1].\n",
    "\n",
    "\n",
    "$$\\varepsilon'_{kl}(x) = I_{ikjl} - E_{ikjl} + \\int_V \\Phi_{ikjl}(r) \\Big [C'_{ijlk}(x-r)\\bar{\\varepsilon}_{lk} + \\big [C'_{ijlk}(x-r)\\varepsilon'_{lk}(x-r)\\big ]\\Big ]dr $$\n",
    "\n",
    "where \n",
    "\n",
    "$$\\Phi_{ikjl}(r) = - \\frac{\\big (G_{ik,lj}(r) + G_{il,kj}(r) \\big)}{2} $$\n",
    "\n",
    "is the Green's function terms, and \n",
    "\n",
    "$$I_{ikjl}^{\\infty} = \\lim_{r \\rightarrow \\infty} \\int_S\\frac{\\big (G_{ik,l}(r) + G_{il,k}(r)\\big)}{2} \\Big [C'_{ijlk}(x-r)\\bar{\\varepsilon}_{lk} + \\big [C'_{ijlk}(x-r)\\varepsilon'_{lk}(x-r)\\big ]\\Big ]n_l dS $$\n",
    "\n",
    "$$E_{ikjl}(x) = \\lim_{r \\rightarrow 0} \\int_S\\frac{\\big (G_{ik,l}(r) + G_{il,k}(r)\\big)}{2} n_l dS $$\n",
    "\n",
    "are the contribution from the surface integrals at $\\infty$ and from the singularity.\n",
    "\n",
    "Finally, let \n",
    "\n",
    "$$\\Gamma_{iklj}(r) = I_{ikjl}^{\\infty}\\delta(r)-E_{ikjl}\\delta(r) + \\Phi_{ikjl}(r)$$\n",
    "\n",
    "The strain can then be written in the following form:\n",
    "\n",
    "$$\\varepsilon'_{kl}(x) = \\int_V \\Gamma_{ikjl}(r) \\Big [C'_{ijlk}(x-r)\\bar{\\varepsilon}_{lk} + \\big [C'_{ijlk}(x-r)\\varepsilon'_{lk}(x-r)\\big ]\\Big ]dr $$\n"
   ]
  },
  {
   "cell_type": "markdown",
   "metadata": {},
   "source": [
    "###Weak Contrast Expansion\n",
    "\n",
    "$$\\varepsilon'(x) =\\int_V \\Gamma(r) C'(x-r) [ \\bar{\\varepsilon} + \\varepsilon'(x-r)]dr $$\n",
    "\n",
    "By recursively inserting $\\varepsilon'(x)$ into the LHS of the equation, we get the following series: \n",
    "\n",
    "$$\n",
    "\\varepsilon'(x) =\\int_V \\Gamma(r) C'(x-r) \\bar{\\varepsilon} dr +\\int_V \\int_V \\Big[ \\Gamma(r) C'(x-r)\\bar{\\varepsilon}\\Big ]\\Big [\\Gamma(r')  C'(x-r') \\bar{\\varepsilon}\\Big] dr'dr + ...$$\n",
    "\n",
    "As long as \n",
    "\n",
    "$$\\Gamma(r) C'(x)\\bar{\\varepsilon} << 1$$\n",
    "\n",
    "the series can be truncated after a few terms and still provide resonable accuracy."
   ]
  },
  {
   "cell_type": "markdown",
   "metadata": {},
   "source": [
    "###Materials Knowledge Systems\n",
    "\n",
    "Let \n",
    "\n",
    "$$ C'(x-r) = \\int_H h m(h, x-r) dh$$\n",
    "\n",
    "where $m(h, r)$ is the microstructure function, which is a probablity density that spans both the local state space $h$ and real space $x$. The expectation of local state variable for the microstructure function is the integral over the local state space $H$ and describes the expected local state $h$ which is equal to $C'(r)$. \n",
    "\n",
    "Also, let \n",
    "\n",
    "$$\\alpha(h, r) = \\Gamma(r) h \\bar{\\varepsilon} $$ \n",
    "$$\\alpha(h, h', r, r') = \\Gamma(r) h \\bar{\\varepsilon} \\Gamma(r') h' \\bar{\\varepsilon}  $$\n",
    "$$ etc... $$\n",
    "\n",
    "where, again, $h$ is the local state variable. \n",
    "\n",
    "Plugging these definitions into the Weak Contrast Expansion recasts the series in the following form:"
   ]
  },
  {
   "cell_type": "markdown",
   "metadata": {},
   "source": [
    "$$\\varepsilon '(x) =\\int_V \\int_H \\alpha(h, r) m(h, x-r) dr dh + \\int_V \\int_V \\int_H \\int_H\\alpha_(h, h', r, r') m(h, x-r) m(h', x-r') dr'dr dh dh'+ ...$$ \n",
    "\n",
    "The discrete version of this equation is the MKS localization:"
   ]
  },
  {
   "cell_type": "markdown",
   "metadata": {},
   "source": [
    "$$\\varepsilon'[s] = \\sum_{l=0}^{L-1} \\sum_{r=0}^{S-1} \\alpha[l, r] m[l, s-r] +\\sum_{l=0}^{L-1} \\sum_{l'=0}^{L-1} \\sum_{r=0}^{S-1} \\sum_{r'=0}^{S-1} \\alpha[l, l', r, r'] m[l, s-r] m_[l', s-r'] + ... $$\n"
   ]
  },
  {
   "cell_type": "markdown",
   "metadata": {},
   "source": [
    "##References\n",
    "\n",
    "[1] Torquato, S., 1997. *Effective stiffness tensor of composite media. I. Exact series expansions.* J. Mech. Phys. Solids 45, 1421–1448.\n",
    "\n",
    "[2] Brent L.Adams, Surya Kalidindi, David T. Fullwood. *Microstructure Sensitive Design for Performance Optimization.*\n",
    "\n",
    "[3] David T. Fullwood, Brent L.Adams, Surya Kalidindi. *A strong contrast homogenization formulation for multi-phase anisotropic materials.*  "
   ]
  }
 ],
 "metadata": {
  "kernelspec": {
   "display_name": "Python 2",
   "language": "python",
   "name": "python2"
  },
  "language_info": {
   "codemirror_mode": {
    "name": "ipython",
    "version": 2
   },
   "file_extension": ".py",
   "mimetype": "text/x-python",
   "name": "python",
   "nbconvert_exporter": "python",
   "pygments_lexer": "ipython2",
   "version": "2.7.10"
  }
 },
 "nbformat": 4,
 "nbformat_minor": 0
}
