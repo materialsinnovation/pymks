{
 "metadata": {
  "name": "",
  "signature": "sha256:420263d61f15b7acfdb6d9e53625e0bec93518f515e8c13b0421e38648f1024b"
 },
 "nbformat": 3,
 "nbformat_minor": 0,
 "worksheets": [
  {
   "cells": [
    {
     "cell_type": "markdown",
     "metadata": {},
     "source": [
      "# Time Series Analysis and Transfer Functions\n",
      "\n",
      "We want to create a linear constant coefficient difference equation to\n",
      "approximate an harmonic oscillator system of the form\n",
      "\n",
      "$$ F \\left( t \\right) = m \\ddot{y} + c \\dot{y} + k y $$\n",
      "   \n",
      "If we let\n",
      "\n",
      "$$ \\zeta = \\frac{c}{2 \\sqrt{m k}} $$\n",
      "   \n",
      "and choose $ F \\left( t \\right) = \\omega_0^2 $ when $ t \\ge 0 $ and$\n",
      "F \\left( t \\right) = 0 $ when $ t < 0 $, the analytical solution is\n",
      "\n",
      "$$ y = \\frac{ 1 - e^{-\\zeta \\omega_0 t} \\sin \\left( \\omega^{\\prime}  t + \\phi  \\right)}{\\sin \\left( \\phi \\right)} $$\n",
      "\n",
      "where $ \\omega^{\\prime} = \\sqrt{ \\omega_0^2 \\left( 1 - \\zeta^2 \\right)\n",
      "} $ and $\\phi = \\arccos \\left( \\zeta \\right) $.\n",
      "\n",
      "The goal is to fit the oscillator to a difference equation of the form\n",
      "\n",
      "$$ y_t = a_1 y_{t-1} + a_2 y_{t-2} + b_0 F_t  + b_1 F_{t - 1} $$\n",
      "\n",
      "How do we do this? \n",
      "\n",
      "The coefficients $a_1$, $a_2$,$b_0$ and $b_1$ are determined using a transfer function model from time series analysis.\n",
      "One method that is used to do this is the Yule-Walker Equation. The first step is to determine in the time series $y_{t}$ and $F_{t}$ are stationary. \n",
      "\n",
      "A process is considered stationary if the first two moments of the distrition (mean and variance) are constant in time as they approach infinity. T \n",
      "\n",
      "The steps are\n",
      "\n",
      " * generate data for $y$ for given some numbers for the oscillator coefficients\n",
      "\n",
      "The goal of this notebook is the create sample data. To do this we\n",
      "choose an $F$, $a$, $b$ and a $c$ and then create $y$ from the\n",
      "analytically solution. We then use the sample data, which is just $F$\n",
      "and $y$, with the MKS in time to recreate the coefficients and then\n",
      "check how accurate they are given different sample sizes and\n",
      "hyperparameters.\n"
     ]
    },
    {
     "cell_type": "code",
     "collapsed": false,
     "input": [
      "zeta = 0.5\n",
      "omega0 = 5\n",
      "phi = np.arccos(zeta)\n",
      "omegap = np.sqrt(omega0**2*(1-zeta**2))\n",
      "\n",
      "dt = 0.1\n",
      "n = 10\n",
      "F = omega0**2*np.ones(n/dt)\n",
      "time = np.linspace(0,n,num = n/dt)\n",
      "y = (1-np.exp(-zeta*omega0*time)*np.sin(omega0*time+phi))/sin(phi)\n",
      "\n",
      "plt.plot(F)\n",
      "plt.legend('Force')\n",
      "plt.show()\n",
      "plt.legend(\"Position\")\n",
      "plt.plot(y)\n",
      "plt.plot(np.diff(y))\n",
      "plt.plot(np.diff(np.diff(y)))\n",
      "plt.show()"
     ],
     "language": "python",
     "metadata": {},
     "outputs": [
      {
       "metadata": {},
       "output_type": "display_data",
       "png": "[encoded data removed]",
       "text": [
        "<matplotlib.figure.Figure at 0x626be10>"
       ]
      },
      {
       "metadata": {},
       "output_type": "display_data",
       "png": "[encoded data removed]",
       "text": [
        "<matplotlib.figure.Figure at 0x6003bd0>"
       ]
      }
     ],
     "prompt_number": 59
    },
    {
     "cell_type": "markdown",
     "metadata": {},
     "source": [
      "The first plot above shows a plot of force over a function of time, and the second plot shows the position and its first and second differences as a function of time. Both the position and force are stationary processes. We can now use the Yule-Walker (YW) equation to look at the cross correlation between between the two signals.\n",
      "\n",
      "With a specificed number of coefficients (in our case $a_1$, $a_2$, $b_0$ and $b_1$) we can use the YW equation. To derive the YW equation we first look at the covarnce \n",
      "\n",
      "$$ y_t = a_1 y_{t-1} + a_2 y_{t-2} + b_0 F_t  + b_1 F_{t - 1} $$\n",
      "\n",
      "Now take a look at the covarience $\\gamma$ of each of the terms with the position at a given difference in time $y_{t-h}$  \n",
      "\n",
      "$$ Cov(y_{t},y_{t-h}) = a_1 Cov(y_{t-1},y_{t-h}) + b_0 Cov(F_t,y_{t-h} + b_1 Cov(F_{t-1},y_{t-h})  $$\n",
      "\n",
      "$$ \\gamma(h)_{yy} = a_1 \\gamma(h-1)_{yy} + b_0 \\gamma(h)_{yx} + b_1 \\gamma(h-1)_{yx} $$\n",
      "\n",
      "If we normalize the equation above by the varience of $y_t$ ($\\gamma(0)_{yy}$) \n",
      "\n",
      "$$ \\rho (h) = \\frac{\\gamma(h)}{\\gamma(0)}$$\n",
      "\n",
      "$$ \\rho(h)_{yy} = a_1 \\rho(h+1)_{yy} + b_0 \\rho(h)_{yx} + b_1 \\rho(h+1)_{yx} $$\n"
     ]
    },
    {
     "cell_type": "code",
     "collapsed": false,
     "input": [],
     "language": "python",
     "metadata": {},
     "outputs": []
    }
   ],
   "metadata": {}
  }
 ]
}