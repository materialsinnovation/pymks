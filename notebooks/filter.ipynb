{
 "metadata": {
  "name": "",
  "signature": "sha256:a6e7e8e6dd048c1dfbedc22afe3d0202f5b899f4daa0f82572fb2ea998d52af0"
 },
 "nbformat": 3,
 "nbformat_minor": 0,
 "worksheets": [
  {
   "cells": [
    {
     "cell_type": "markdown",
     "metadata": {},
     "source": [
      "# Filter Example\n",
      "\n",
      "This example demonstrates the connection between MKS and signal\n",
      "processing for a 1D filter. It shows that the filter is in fact the\n",
      "same as the influence coefficients and, thus, applying the `predict`\n",
      "method provided by the `MKSRegressionModel` is in essence just applying a filter."
     ]
    },
    {
     "cell_type": "code",
     "collapsed": false,
     "input": [
      "%matplotlib inline\n",
      "%load_ext autoreload\n",
      "%autoreload 2\n",
      "\n",
      "import numpy as np\n",
      "import matplotlib.pyplot as plt"
     ],
     "language": "python",
     "metadata": {},
     "outputs": [
      {
       "output_type": "stream",
       "stream": "stdout",
       "text": [
        "The autoreload extension is already loaded. To reload it, use:\n",
        "  %reload_ext autoreload\n"
       ]
      }
     ],
     "prompt_number": 64
    },
    {
     "cell_type": "markdown",
     "metadata": {},
     "source": [
      "Here we construct a filter, $F$, such that\n",
      "\n",
      "$$F\\left(x\\right) = e^{-|x|} \\cos{\\left(2\\pi x\\right)} $$\n",
      "\n",
      "We want to show that if $F$ is used to generate sample calibration\n",
      "data for the MKS, then the calculated influence coefficients are in\n",
      "fact just $F$."
     ]
    },
    {
     "cell_type": "code",
     "collapsed": false,
     "input": [
      "x0 = -10.\n",
      "x1 = 10.\n",
      "x = np.linspace(x0, x1, 1000)\n",
      "def F(x):\n",
      "    return np.exp(-abs(x)) * np.cos(2 * np.pi * x)\n",
      "p = plt.plot(x, F(x))"
     ],
     "language": "python",
     "metadata": {},
     "outputs": [
      {
       "metadata": {},
       "output_type": "display_data",
       "png": "[encoded data removed]",
       "text": [
        "<matplotlib.figure.Figure at 0x7f11c6246050>"
       ]
      }
     ],
     "prompt_number": 65
    },
    {
     "cell_type": "markdown",
     "metadata": {},
     "source": [
      "Next we generate the sample data `(X, y)` using\n",
      "`scipy.ndimage.convolve`. This performs the convolution\n",
      "\n",
      "$$ p\\left[ i \\right] = F\\left[j\\right] X\\left[i - j\\right] $$\n",
      "\n",
      "for each sample."
     ]
    },
    {
     "cell_type": "code",
     "collapsed": false,
     "input": [
      "import scipy.ndimage\n",
      "\n",
      "Nspace = 101\n",
      "Nsample = 50\n",
      "np.random.seed(201)\n",
      "x = np.linspace(x0, x1, Nspace)\n",
      "X = np.random.random((Nsample, Nspace))\n",
      "y = np.array([scipy.ndimage.convolve(xx, F(x), mode='wrap') for xx in X])"
     ],
     "language": "python",
     "metadata": {},
     "outputs": [],
     "prompt_number": 71
    },
    {
     "cell_type": "markdown",
     "metadata": {},
     "source": [
      "For this problem, a basis is unnecessary as no discretization is\n",
      "required in order to reproduce the convolution with the MKS.  Using\n",
      "the `ContinuousIndicatorBasis` with `n_states=2` is the equivalent of a\n",
      "non-discretized convolution in space."
     ]
    },
    {
     "cell_type": "code",
     "collapsed": false,
     "input": [
      "from pymks import MKSRegressionModel\n",
      "from pymks import ContinuousIndicatorBasis\n",
      "\n",
      "basis = ContinuousIndicatorBasis(n_states=2, domain=[0, 1])\n",
      "model = MKSRegressionModel(basis=basis)"
     ],
     "language": "python",
     "metadata": {},
     "outputs": [],
     "prompt_number": 72
    },
    {
     "cell_type": "markdown",
     "metadata": {},
     "source": [
      "Fit the model using the data generated by $F$."
     ]
    },
    {
     "cell_type": "code",
     "collapsed": false,
     "input": [
      "model.fit(X, y)"
     ],
     "language": "python",
     "metadata": {},
     "outputs": [],
     "prompt_number": 73
    },
    {
     "cell_type": "markdown",
     "metadata": {},
     "source": [
      "To check for internal consistency, we can compare the predicted\n",
      "output with the original for a few values"
     ]
    },
    {
     "cell_type": "code",
     "collapsed": false,
     "input": [
      "y_pred = model.predict(X)\n",
      "print y[0, :4]\n",
      "print y_pred[0, :4]"
     ],
     "language": "python",
     "metadata": {},
     "outputs": [
      {
       "output_type": "stream",
       "stream": "stdout",
       "text": [
        "[-0.41059557  0.20004566  0.61200171  0.5878077 ]\n",
        "[-0.41059557  0.20004566  0.61200171  0.5878077 ]\n"
       ]
      }
     ],
     "prompt_number": 74
    },
    {
     "cell_type": "markdown",
     "metadata": {},
     "source": [
      "With a slight linear manipulation of the coefficients, they agree perfectly with the shape of the filter, $F$. "
     ]
    },
    {
     "cell_type": "code",
     "collapsed": false,
     "input": [
      "plt.plot(x, F(x), 'r', label=r'$F$')\n",
      "plt.plot(x, -model.coeff[:,0] + model.coeff[:, 1], 'k--', label=r'$\\alpha$')\n",
      "l = plt.legend()"
     ],
     "language": "python",
     "metadata": {},
     "outputs": [
      {
       "metadata": {},
       "output_type": "display_data",
       "png": "[encoded data removed]",
       "text": [
        "<matplotlib.figure.Figure at 0x7f11c60d4f10>"
       ]
      }
     ],
     "prompt_number": 75
    },
    {
     "cell_type": "markdown",
     "metadata": {},
     "source": [
      "Some manipulation of the coefficients is required to reproduce the filter. Remember the convolution for the MKS is\n",
      "\n",
      "$$ p \\left[i\\right] = \\sum_h^{n-1} \\alpha_h \\left[j\\right] m_h \\left[i - j\\right] $$\n",
      "\n",
      "However, the `MKSRegressionModel` solves a modified form of this. There are always redundant coefficients since\n",
      "\n",
      "$$ \\sum\\limits_{h=0}^{n-1} m_h \\left[i\\right] = 1 $$\n",
      "\n",
      "Thus, the convolution must be rewritten taking this into account. We can rewrite the convolution as\n",
      "\n",
      "$$ \\begin{split}\n",
      "p \\left[i\\right] &= \\sum\\limits_{h=0}^n \\alpha_h \\left[j\\right] m_h \\left[i - j\\right] \\\\\n",
      "        &= \\sum\\limits_{h=0}^{n - 2}  \\alpha_h \\left[j\\right] m_h \\left[i - j\\right] + \n",
      "           \\alpha_{n-1} \\left[j\\right] \\left( I\\left[i - j\\right] - \\sum\\limits_{h=0}^{n - 2} m_h \\left[i - j\\right] \\right) \\\\\n",
      "        &=  \\alpha_{n - 1} \\left[ j \\right]  I\\left[i - j\\right] +\n",
      "           \\sum\\limits_{h=0}^{n - 2} \\left(\\alpha_h\\left[j\\right] - \\alpha_{n-1}\\left[j\\right] \\right) m_h\\left[i - j\\right] \\\\\n",
      "        &= \\beta + \\sum\\limits_{h=0}^{n - 2} b_h \\left[ j \\right] m_h \\left[ i - j \\right] \n",
      "\\end{split}$$\n",
      "\n",
      "where $\\beta = \\alpha_{n - 1} \\left[ j \\right]  I\\left[i - j\\right]$ is just a constant and $I\\left[i\\right] = 1$ for all $i$.\n",
      "This removes the redundancies from the regression. Manipulation of the $\\beta$ and $b_0$ demonstrate that the filter is reproduced."
     ]
    }
   ],
   "metadata": {}
  }
 ]
}