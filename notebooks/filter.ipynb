{
 "cells": [
  {
   "cell_type": "markdown",
   "metadata": {},
   "source": [
    "# Filter Example\n",
    "\n",
    "This example demonstrates the connection between MKS and signal\n",
    "processing for a 1D filter. It shows that the filter is in fact the\n",
    "same as the influence coefficients and, thus, applying the `predict`\n",
    "function provided by the `pymks.fmks.localization` is in essence just applying a filter."
   ]
  },
  {
   "cell_type": "code",
   "execution_count": 1,
   "metadata": {},
   "outputs": [],
   "source": [
    "# NBVAL_IGNORE_OUTPUT\n",
    "\n",
    "%load_ext autoreload\n",
    "%autoreload 2"
   ]
  },
  {
   "cell_type": "code",
   "execution_count": 2,
   "metadata": {},
   "outputs": [
    {
     "name": "stderr",
     "output_type": "stream",
     "text": [
      "/nix/store/b6pcn34yqrnnah35661qsv3x87ichad2-python3.6-matplotlib-2.1.2/lib/python3.6/site-packages/matplotlib/__init__.py:465: UserWarning: matplotlibrc text.usetex option can not be used unless TeX is installed on your system\n",
      "  warnings.warn('matplotlibrc text.usetex option can not be used unless '\n",
      "/nix/store/b6pcn34yqrnnah35661qsv3x87ichad2-python3.6-matplotlib-2.1.2/lib/python3.6/site-packages/matplotlib/__init__.py:473: UserWarning: matplotlibrc text.usetex can not be used with *Agg backend unless dvipng-1.6 or later is installed on your system\n",
      "  'your system' % dvipng_req)\n",
      "/nix/store/b6pcn34yqrnnah35661qsv3x87ichad2-python3.6-matplotlib-2.1.2/lib/python3.6/site-packages/matplotlib/__init__.py:480: UserWarning: matplotlibrc text.usetex can not be used unless ghostscript-8.60 or later is installed on your system\n",
      "  % gs_req)\n"
     ]
    }
   ],
   "source": [
    "# NBVAL_IGNORE_OUTPUT\n",
    "\n",
    "import numpy as np\n",
    "import matplotlib.pyplot as plt\n",
    "from toolz.curried import pipe, compose, map, curry\n",
    "from pymks.fmks.bases.primitive import discretize\n",
    "from pymks.fmks.localization import fit, predict, coeff_to_real\n",
    "from typing import Tuple\n",
    "import scipy.ndimage\n",
    "import dask.array as da"
   ]
  },
  {
   "cell_type": "markdown",
   "metadata": {},
   "source": [
    "Here we construct a filter, $F$, such that\n",
    "\n",
    "$$F\\left(x\\right) = e^{-|x|} \\cos{\\left(2\\pi x\\right)} $$\n",
    "\n",
    "We want to show that, if $F$ is used to generate sample calibration\n",
    "data for the MKS, then the calculated influence coefficients are in\n",
    "fact just $F$."
   ]
  },
  {
   "cell_type": "code",
   "execution_count": 3,
   "metadata": {},
   "outputs": [],
   "source": [
    "def filter(x):\n",
    "    return np.exp(-abs(x)) * np.cos(2 * np.pi * x)"
   ]
  },
  {
   "cell_type": "code",
   "execution_count": 4,
   "metadata": {},
   "outputs": [
    {
     "data": {
      "image/png": "[encoded data removed]",
      "text/plain": [
       "<matplotlib.figure.Figure at 0x7fa23535b048>"
      ]
     },
     "metadata": {},
     "output_type": "display_data"
    }
   ],
   "source": [
    "# NBVAL_IGNORE_OUTPUT\n",
    "\n",
    "def fplot(x, y):\n",
    "    plt.plot(x, y, color='#1a9850')\n",
    "    plt.show()\n",
    "\n",
    "io = pipe(\n",
    "        np.linspace(-10.0, 10.0, 1000),\n",
    "        lambda x: fplot(x, filter(x))\n",
    ")"
   ]
  },
  {
   "cell_type": "markdown",
   "metadata": {},
   "source": [
    "Next we generate the sample data `(X, y)` using\n",
    "`scipy.ndimage.convolve`. This performs the convolution\n",
    "\n",
    "$$ p\\left[ s \\right] = \\sum_r F\\left[r\\right] X\\left[r - s\\right] $$\n",
    "\n",
    "for each sample."
   ]
  },
  {
   "cell_type": "code",
   "execution_count": 5,
   "metadata": {},
   "outputs": [],
   "source": [
    "def get_x_data(n_sample, n_space):\n",
    "    np.random.seed(201)\n",
    "    return np.random.random((n_sample, n_space))"
   ]
  },
  {
   "cell_type": "code",
   "execution_count": 6,
   "metadata": {},
   "outputs": [],
   "source": [
    "@curry\n",
    "def convolve(x_sample):\n",
    "    return scipy.ndimage.convolve(x_sample,\n",
    "                                  filter(np.linspace(-10.0, 10.0, len(x_sample))),\n",
    "                                  mode=\"wrap\")"
   ]
  },
  {
   "cell_type": "code",
   "execution_count": 7,
   "metadata": {},
   "outputs": [],
   "source": [
    "get_y_data = compose(np.array, list, map(convolve))\n",
    "get_xy_data = lambda x: (x, get_y_data(x))\n",
    "    \n",
    "data = get_xy_data(get_x_data(50, 101))"
   ]
  },
  {
   "cell_type": "code",
   "execution_count": 8,
   "metadata": {},
   "outputs": [
    {
     "name": "stdout",
     "output_type": "stream",
     "text": [
      "(50, 101) (50, 101)\n"
     ]
    }
   ],
   "source": [
    "print(data[0].shape, data[1].shape)"
   ]
  },
  {
   "cell_type": "markdown",
   "metadata": {},
   "source": [
    "For this problem, a basis is unnecessary, as no discretization is\n",
    "required in order to reproduce the convolution with the MKS localization. Using\n",
    "the `primitive_basis` with `n_state=2` is the equivalent of a\n",
    "non-discretized convolution in space."
   ]
  },
  {
   "cell_type": "code",
   "execution_count": 9,
   "metadata": {},
   "outputs": [
    {
     "name": "stdout",
     "output_type": "stream",
     "text": [
      "[-0.41059557  0.20004566  0.61200171  0.5878077 ]\n",
      "[-0.41059557  0.20004566  0.61200171  0.5878077 ]\n",
      "(101, 2)\n"
     ]
    }
   ],
   "source": [
    "def fit_predict(x_data, y_data):\n",
    "    basis = discretize(n_state=2)\n",
    "    return pipe(\n",
    "        fit(x_data, y_data, discretize),\n",
    "        lambda coeff: (predict(x_data, coeff, basis), coeff)\n",
    "    )\n",
    "\n",
    "x, y = data\n",
    "y_pred, coeff = fit_predict(da.from_array(x, chunks=(10, 101)),\n",
    "                            da.from_array(y, chunks=(10, 101)))\n",
    "print(y_pred[0, :4].compute())\n",
    "print(y[0, :4])\n",
    "print(coeff.shape)"
   ]
  },
  {
   "cell_type": "code",
   "execution_count": 10,
   "metadata": {},
   "outputs": [
    {
     "name": "stdout",
     "output_type": "stream",
     "text": [
      "(101,)\n",
      "(101, 2)\n"
     ]
    },
    {
     "name": "stderr",
     "output_type": "stream",
     "text": [
      "/nix/store/qbpxm34z3dcdrzqsa384blka3jafiszs-python3.6-dask-0.17.0/lib/python3.6/site-packages/dask/array/core.py:1195: ComplexWarning: Casting complex values to real discards the imaginary part\n",
      "  x = x.astype(dtype)\n"
     ]
    },
    {
     "data": {
      "image/png": "[encoded data removed]",
      "text/plain": [
       "<matplotlib.figure.Figure at 0x7fa2201ff358>"
      ]
     },
     "metadata": {},
     "output_type": "display_data"
    }
   ],
   "source": [
    "# NBVAL_IGNORE_OUTPUT\n",
    "\n",
    "x = np.linspace(-10.0, 10.0, 101)\n",
    "rcoeff = coeff_to_real(coeff, (101,))\n",
    "print(x.shape)\n",
    "print(rcoeff.shape)\n",
    "plt.plot(x, filter(x), label=r'$F$', color='#1a9850')\n",
    "plt.plot(x, -rcoeff[:, 0] + rcoeff[:, 1], \n",
    "         'k--', label=r'$\\alpha$')\n",
    "l = plt.legend()\n",
    "plt.show()"
   ]
  },
  {
   "cell_type": "code",
   "execution_count": 11,
   "metadata": {},
   "outputs": [
    {
     "name": "stdout",
     "output_type": "stream",
     "text": [
      "[-0.41059557  0.20004566  0.61200171  0.5878077 ]\n"
     ]
    }
   ],
   "source": [
    "print(y_pred[0, :4].compute())"
   ]
  },
  {
   "cell_type": "markdown",
   "metadata": {},
   "source": [
    "Some manipulation of the coefficients is required to reproduce the filter. Remember the convolution for the MKS is\n",
    "\n",
    "$$ p \\left[s\\right] = \\sum_{l=0}^{L-1} \\sum_{r=0}^{S - 1} \\alpha[l, r] m[l, s - r] $$\n",
    "\n",
    "However, when the primitive basis is selected, the `MKSLocalizationModel` solves a modified form of this. There are always redundant coefficients since\n",
    "\n",
    "$$ \\sum\\limits_{l=0}^{L-1} m[l, s] = 1 $$\n",
    "\n",
    "Thus, the regression in Fourier space must be done with categorical variables, and the regression takes the following form:\n",
    "\n",
    "\n",
    "$$ \\begin{split}\n",
    "p [s] & = \\sum_{l=0}^{L - 1} \\sum_{r=0}^{S - 1} \\alpha[l, r] m[l, s -r] \\\\\n",
    "P [k] & = \\sum_{l=0}^{L - 1} \\beta[l, k] M[l, k] \\\\\n",
    "&= \\beta[0, k] M[0, k] + \\beta[1, k] M[1, k]\n",
    "\\end{split}\n",
    "$$\n",
    "\n",
    "where\n",
    "\n",
    "$$\\beta[0, k] = \\begin{cases}\n",
    "\\langle F(x) \\rangle ,& \\text{if } k = 0\\\\\n",
    "0,              & \\text{otherwise}\n",
    "\\end{cases} $$\n",
    "\n",
    "This removes the redundancies from the regression, and we can reproduce the filter."
   ]
  },
  {
   "cell_type": "code",
   "execution_count": null,
   "metadata": {},
   "outputs": [],
   "source": []
  }
 ],
 "metadata": {
  "anaconda-cloud": {},
  "kernelspec": {
   "display_name": "Python 3",
   "language": "python",
   "name": "python3"
  },
  "language_info": {
   "codemirror_mode": {
    "name": "ipython",
    "version": 3
   },
   "file_extension": ".py",
   "mimetype": "text/x-python",
   "name": "python",
   "nbconvert_exporter": "python",
   "pygments_lexer": "ipython3",
   "version": "3.6.4"
  }
 },
 "nbformat": 4,
 "nbformat_minor": 1
}
