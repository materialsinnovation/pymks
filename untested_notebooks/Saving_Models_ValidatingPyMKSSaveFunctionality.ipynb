{
 "cells": [
  {
   "cell_type": "code",
   "execution_count": 1,
   "metadata": {},
   "outputs": [],
   "source": [
    "import numpy as np\n",
    "import matplotlib.pyplot as plt\n",
    "\n",
    "from pymks import MKSHomogenizationModel\n",
    "from pymks import PrimitiveBasis"
   ]
  },
  {
   "cell_type": "code",
   "execution_count": 2,
   "metadata": {},
   "outputs": [],
   "source": [
    "prim_basis = PrimitiveBasis(n_states=2, domain=[0, 1])\n",
    "model = MKSHomogenizationModel(basis=prim_basis, periodic_axes=[0, 1],\n",
    "                               correlations=[(0, 0), (1, 1)])"
   ]
  },
  {
   "cell_type": "code",
   "execution_count": 3,
   "metadata": {},
   "outputs": [
    {
     "name": "stderr",
     "output_type": "stream",
     "text": [
      "/home/svoigt6/Projects/pymks/pymks/mks_homogenization_model.py:224: UserWarning: Not all values in the material data dictionary have been set. Please set using `material_data = ` such that future users of the model will have context.\n",
      "  ' the model will have context.')\n"
     ]
    }
   ],
   "source": [
    "model.save('saved_models/homogenous.mks')"
   ]
  },
  {
   "cell_type": "code",
   "execution_count": 4,
   "metadata": {},
   "outputs": [
    {
     "data": {
      "text/plain": [
       "{'Material_Class': None,\n",
       " 'Material_Name': None,\n",
       " 'Material_Desc': None,\n",
       " 'Property_Class': None,\n",
       " 'Property_Name': None,\n",
       " 'Property_Desc': None}"
      ]
     },
     "execution_count": 4,
     "metadata": {},
     "output_type": "execute_result"
    }
   ],
   "source": [
    "model.material_data"
   ]
  },
  {
   "cell_type": "code",
   "execution_count": 5,
   "metadata": {},
   "outputs": [
    {
     "name": "stderr",
     "output_type": "stream",
     "text": [
      "/home/svoigt6/Projects/pymks/pymks/mks_homogenization_model.py:237: UserWarning: Keys from input not accepted. Use the keys [Material_Class, Material_Name, Material_Desc, Property_Class, Property_Name, Property_Desc]\n",
      "  warnings.warn('Keys from input not accepted. Use the keys [%s]'%', '.join(list(self._material_data)))\n",
      "/home/svoigt6/Projects/pymks/pymks/mks_homogenization_model.py:224: UserWarning: Not all values in the material data dictionary have been set. Please set using `material_data = ` such that future users of the model will have context.\n",
      "  ' the model will have context.')\n"
     ]
    }
   ],
   "source": [
    "model.material_data = {'Artists': 'Green Day'}"
   ]
  },
  {
   "cell_type": "code",
   "execution_count": 6,
   "metadata": {},
   "outputs": [
    {
     "ename": "ValueError",
     "evalue": "Material Class not Valid. Please choose a class from the following:\nMetal\nCeramic\nPolymer\nFunctional\nBiological\nBiomaterial\nMatrix\nFoam\nMetal Ceramic Composite\nMetal Polymer Composite\nMetal Biomaterial Composite\nMetal Matrix Composite\nMetal Foam Composite\nCeramic Metal Composite\nCeramic Polymer Composite\nCeramic Biomaterial Composite\nCeramic Matrix Composite\nCeramic Foam Composite\nPolymer Metal Composite\nPolymer Ceramic Composite\nPolymer Biomaterial Composite\nPolymer Matrix Composite\nPolymer Foam Composite\nFunctional Metal Composite\nFunctional Ceramic Composite\nFunctional Polymer Composite\nFunctional Biomaterial Composite\nFunctional Matrix Composite\nFunctional Foam Composite\nMetal Matrix\nMetal Foam\nCeramic Matrix\nCeramic Foam\nPolymer Matrix\nPolymer Foam\nFunctional Matrix\nFunctional Foam\nBiological Matrix\nBiological Foam",
     "output_type": "error",
     "traceback": [
      "\u001b[0;31m---------------------------------------------------------------------------\u001b[0m",
      "\u001b[0;31mValueError\u001b[0m                                Traceback (most recent call last)",
      "\u001b[0;32m<ipython-input-6-d57049aca8f7>\u001b[0m in \u001b[0;36m<module>\u001b[0;34m\u001b[0m\n\u001b[0;32m----> 1\u001b[0;31m \u001b[0mmodel\u001b[0m\u001b[0;34m.\u001b[0m\u001b[0mmaterial_data\u001b[0m \u001b[0;34m=\u001b[0m \u001b[0;34m{\u001b[0m\u001b[0;34m'Material_Class'\u001b[0m\u001b[0;34m:\u001b[0m \u001b[0;34m'Soil'\u001b[0m\u001b[0;34m}\u001b[0m\u001b[0;34m\u001b[0m\u001b[0;34m\u001b[0m\u001b[0m\n\u001b[0m",
      "\u001b[0;32m~/Projects/pymks/pymks/mks_homogenization_model.py\u001b[0m in \u001b[0;36mmaterial_data\u001b[0;34m(self, material_data)\u001b[0m\n\u001b[1;32m    232\u001b[0m                 \u001b[0;32mif\u001b[0m \u001b[0mkey\u001b[0m \u001b[0;32mis\u001b[0m \u001b[0;34m'Material_Class'\u001b[0m \u001b[0;32mand\u001b[0m \u001b[0mmaterial_data\u001b[0m\u001b[0;34m[\u001b[0m\u001b[0mkey\u001b[0m\u001b[0;34m]\u001b[0m \u001b[0;32mnot\u001b[0m \u001b[0;32min\u001b[0m \u001b[0mself\u001b[0m\u001b[0;34m.\u001b[0m\u001b[0mmaterial_classes\u001b[0m\u001b[0;34m:\u001b[0m\u001b[0;34m\u001b[0m\u001b[0;34m\u001b[0m\u001b[0m\n\u001b[1;32m    233\u001b[0m                     raise ValueError('Material Class not Valid. Please choose a class from the following:\\n' +\n\u001b[0;32m--> 234\u001b[0;31m                                      '\\n'.join(self.material_classes))\n\u001b[0m\u001b[1;32m    235\u001b[0m                 \u001b[0mself\u001b[0m\u001b[0;34m.\u001b[0m\u001b[0m_material_data\u001b[0m\u001b[0;34m[\u001b[0m\u001b[0mkey\u001b[0m\u001b[0;34m]\u001b[0m \u001b[0;34m=\u001b[0m \u001b[0mmaterial_data\u001b[0m\u001b[0;34m[\u001b[0m\u001b[0mkey\u001b[0m\u001b[0;34m]\u001b[0m\u001b[0;34m\u001b[0m\u001b[0;34m\u001b[0m\u001b[0m\n\u001b[1;32m    236\u001b[0m             \u001b[0;32melse\u001b[0m\u001b[0;34m:\u001b[0m\u001b[0;34m\u001b[0m\u001b[0;34m\u001b[0m\u001b[0m\n",
      "\u001b[0;31mValueError\u001b[0m: Material Class not Valid. Please choose a class from the following:\nMetal\nCeramic\nPolymer\nFunctional\nBiological\nBiomaterial\nMatrix\nFoam\nMetal Ceramic Composite\nMetal Polymer Composite\nMetal Biomaterial Composite\nMetal Matrix Composite\nMetal Foam Composite\nCeramic Metal Composite\nCeramic Polymer Composite\nCeramic Biomaterial Composite\nCeramic Matrix Composite\nCeramic Foam Composite\nPolymer Metal Composite\nPolymer Ceramic Composite\nPolymer Biomaterial Composite\nPolymer Matrix Composite\nPolymer Foam Composite\nFunctional Metal Composite\nFunctional Ceramic Composite\nFunctional Polymer Composite\nFunctional Biomaterial Composite\nFunctional Matrix Composite\nFunctional Foam Composite\nMetal Matrix\nMetal Foam\nCeramic Matrix\nCeramic Foam\nPolymer Matrix\nPolymer Foam\nFunctional Matrix\nFunctional Foam\nBiological Matrix\nBiological Foam"
     ]
    }
   ],
   "source": [
    "model.material_data = {'Material_Class': 'Soil'}"
   ]
  },
  {
   "cell_type": "code",
   "execution_count": 7,
   "metadata": {},
   "outputs": [
    {
     "name": "stderr",
     "output_type": "stream",
     "text": [
      "/home/svoigt6/Projects/pymks/pymks/mks_homogenization_model.py:224: UserWarning: Not all values in the material data dictionary have been set. Please set using `material_data = ` such that future users of the model will have context.\n",
      "  ' the model will have context.')\n"
     ]
    }
   ],
   "source": [
    "model.material_data = {'Material_Class': 'Metal'}"
   ]
  },
  {
   "cell_type": "code",
   "execution_count": 8,
   "metadata": {},
   "outputs": [
    {
     "data": {
      "text/plain": [
       "{'Material_Class': 'Metal',\n",
       " 'Material_Name': None,\n",
       " 'Material_Desc': None,\n",
       " 'Property_Class': None,\n",
       " 'Property_Name': None,\n",
       " 'Property_Desc': None}"
      ]
     },
     "execution_count": 8,
     "metadata": {},
     "output_type": "execute_result"
    }
   ],
   "source": [
    "model.material_data"
   ]
  },
  {
   "cell_type": "code",
   "execution_count": 9,
   "metadata": {},
   "outputs": [
    {
     "name": "stderr",
     "output_type": "stream",
     "text": [
      "/home/svoigt6/Projects/pymks/pymks/mks_homogenization_model.py:224: UserWarning: Not all values in the material data dictionary have been set. Please set using `material_data = ` such that future users of the model will have context.\n",
      "  ' the model will have context.')\n"
     ]
    }
   ],
   "source": [
    "model.save('saved_models/homogenous.mks')"
   ]
  },
  {
   "cell_type": "code",
   "execution_count": 10,
   "metadata": {},
   "outputs": [],
   "source": [
    "data = model.material_data\n",
    "\n",
    "for key in data:\n",
    "    data[key] = 'Test'\n",
    "\n",
    "data['Material_Class'] = 'Ceramic Foam'\n",
    "\n",
    "model.material_data = data"
   ]
  },
  {
   "cell_type": "code",
   "execution_count": 11,
   "metadata": {},
   "outputs": [],
   "source": [
    "model.save('saved_models/homogenous.mks')"
   ]
  }
 ],
 "metadata": {
  "kernelspec": {
   "display_name": "Python 3",
   "language": "python",
   "name": "python3"
  },
  "language_info": {
   "codemirror_mode": {
    "name": "ipython",
    "version": 3
   },
   "file_extension": ".py",
   "mimetype": "text/x-python",
   "name": "python",
   "nbconvert_exporter": "python",
   "pygments_lexer": "ipython3",
   "version": "3.6.8"
  }
 },
 "nbformat": 4,
 "nbformat_minor": 2
}
