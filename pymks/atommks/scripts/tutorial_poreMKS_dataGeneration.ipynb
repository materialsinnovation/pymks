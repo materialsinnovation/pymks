{
 "cells": [
  {
   "cell_type": "code",
   "execution_count": 1,
   "metadata": {
    "scrolled": true
   },
   "outputs": [],
   "source": [
    "%load_ext autoreload\n",
    "%autoreload 2"
   ]
  },
  {
   "cell_type": "code",
   "execution_count": 2,
   "metadata": {},
   "outputs": [],
   "source": [
    "import os\n",
    "import sys\n",
    "sys.path.append(\"../../../\")"
   ]
  },
  {
   "cell_type": "code",
   "execution_count": 3,
   "metadata": {
    "scrolled": true
   },
   "outputs": [],
   "source": [
    "import warnings\n",
    "warnings.filterwarnings(\"ignore\")\n",
    "import os\n",
    "import ase\n",
    "import time\n",
    "import glob\n",
    "import numpy as np\n",
    "import pandas as pd\n",
    "import ase.io as aio\n",
    "import scipy.io as sio\n",
    "from pathlib import Path\n",
    "from tqdm.notebook import tqdm\n",
    "import matplotlib.pyplot as plt\n",
    "from toolz.curried import pipe, curry, compose\n",
    "from collections import defaultdict, OrderedDict\n",
    "\n",
    "import pymks.atommks.porosity as pore\n",
    "from pymks.atommks.grid_generator import generate_grids\n",
    "from pymks.atommks.helpers import write2vtk, save_file, load_file, generate_tubular_paths\n",
    "\n",
    "from pymks.atommks.canonical_paths import calc_path_distance, calc_path_distances_matrix, calc_canonical_paths"
   ]
  },
  {
   "cell_type": "code",
   "execution_count": 4,
   "metadata": {},
   "outputs": [],
   "source": [
    "def get_radius(atom_id, radius_type=\"vdw\"):\n",
    "    \"\"\"\n",
    "    Get the radius of the atom\n",
    "    \n",
    "    Args:\n",
    "      atom_id: element symbol\n",
    "      radius_type = \"vdw\" for Van der Waals or \"cov\" for Covalent\n",
    "      \n",
    "    Returns:\n",
    "      the atomic radius\n",
    "      \n",
    "    >>> get_radius('Na')\n",
    "    2.27\n",
    "    \"\"\"\n",
    "    xl = pd.ExcelFile(\"Elemental_Radii.xlsx\")\n",
    "    df = xl.parse(sheet_name=0, header = 2, index_col=1)\n",
    "    \n",
    "    if radius_type is \"cov\":\n",
    "        key = 6\n",
    "    elif radius_type is \"vdw\":\n",
    "        key = 7\n",
    "    else:\n",
    "        raise ValueError(\"radius_type not supported\")\n",
    "    if atom_id in df.index:\n",
    "        return df.loc[atom_id][key]\n",
    "    else:\n",
    "        raise ValueError(\"Elemental symbol not found\")\n",
    "\n",
    "def get_structure_data(cif_file_path, resize_unit_cell=1):\n",
    "    \"\"\"\n",
    "    Get the ASE atom object (a molecule in many cases) and corresponding\n",
    "    radii for each atom in the molecule\n",
    "    \n",
    "    Args:\n",
    "      cif_file_path: path to the CIF file\n",
    "      resize_unit_cell: allows a resize of the atom object\n",
    "      \n",
    "    Returns:\n",
    "      a tuple of the ASE atom object and dictionary of atom radii\n",
    "    \n",
    "    >>> get_structure_data('iza_zeolites/DDR.cif')[0].get_cell_lengths_and_angles()\n",
    "    array([ 27.59,  27.59,  81.5 ,  90.  ,  90.  , 120.  ])\n",
    "    \n",
    "    \"\"\"\n",
    "    ase_atom = aio.read(cif_file_path).repeat(resize_unit_cell if hasattr(resize_unit_cell, \"__len__\") else [resize_unit_cell] * 3)\n",
    "    atom_ids = sorted(np.unique(ase_atom.get_chemical_symbols()))\n",
    "    return (\n",
    "        ase_atom,\n",
    "        {idx:get_radius(idx) for idx in atom_ids}\n",
    "    )"
   ]
  },
  {
   "cell_type": "code",
   "execution_count": null,
   "metadata": {
    "scrolled": true
   },
   "outputs": [
    {
     "name": "stdout",
     "output_type": "stream",
     "text": [
      "total no. of structures: 845\n",
      "1 zz_ABWff-[1,0,1]-L-0.732814_0-U-0.748843_0-ss-12.8142965856\n",
      "2 zz_ABWff-[1,0,1]-L-0.732814_0-U-0.748843_0-ss-6.43686394024\n",
      "3 zz_ACOff-[1,1,0]-L-0.674661_0-U-0.674735_0-ss-14.0182230666\n"
     ]
    },
    {
     "name": "stderr",
     "output_type": "stream",
     "text": [
      "14it [00:00, 15.68it/s]"
     ]
    }
   ],
   "source": [
    "%%time\n",
    "file_list = glob.glob(\"../../../../structures/likely-min-energy-structures/*.cif\")\n",
    "\n",
    "print(f\"total no. of structures: {len(file_list)}\")\n",
    "\n",
    "for i0, file_path in enumerate(file_list):\n",
    "    \n",
    "    cif = file_path.split(\"/\")[-1][:-4]\n",
    "    print(i0+1, cif)\n",
    "    fout = f\"scratch/canonical_paths_slabs/canonical_paths_dict_{cif}.pkl\"\n",
    "    \n",
    "    if not os.path.exists(fout):\n",
    "        ase_atom, radii = get_structure_data(Path(file_path), [2, 2, 1])\n",
    "\n",
    "        grid_data = generate_grids(\n",
    "            ase_atom,\n",
    "            n_pixel=10,\n",
    "            atomic_radii=radii,\n",
    "            extend_boundary_atoms=False,\n",
    "            use_fft_method=False\n",
    "        )\n",
    "\n",
    "        grid_data[\"distance_grid\"] = pore.calc_euclidean_distance(grid_data['pores'], n_pixel=grid_data['n_pixel'])\n",
    "\n",
    "        metrics = pore.calc_pore_metrics(grid_data[\"distance_grid\"], n_pixel=grid_data['n_pixel'])\n",
    "\n",
    "        dists_dict, canonical_dists_dict = pore.calc_diffusion_paths(grid_data[\"distance_grid\"], \n",
    "                                                                     r_probe=0.5, \n",
    "                                                                     n_pixel=grid_data[\"n_pixel\"], \n",
    "                                                                     n_workers=5)\n",
    "\n",
    "        save_file(obj=canonical_dists_dict, fname=fout)\n",
    "        save_file(obj=metrics, fname=f\"scratch/metrics_slabs/canonical_paths_dict_{cif}.pkl\")"
   ]
  }
 ],
 "metadata": {
  "kernelspec": {
   "display_name": "Python 3",
   "language": "python",
   "name": "python3"
  },
  "language_info": {
   "codemirror_mode": {
    "name": "ipython",
    "version": 3
   },
   "file_extension": ".py",
   "mimetype": "text/x-python",
   "name": "python",
   "nbconvert_exporter": "python",
   "pygments_lexer": "ipython3",
   "version": "3.8.5"
  }
 },
 "nbformat": 4,
 "nbformat_minor": 2
}
