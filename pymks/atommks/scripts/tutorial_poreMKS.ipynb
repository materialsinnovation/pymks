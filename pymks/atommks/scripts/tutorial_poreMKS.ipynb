{
 "cells": [
  {
   "cell_type": "markdown",
   "metadata": {},
   "source": [
    "# Generate Molecular Structure Descriptors for a Zeolite"
   ]
  },
  {
   "cell_type": "markdown",
   "metadata": {},
   "source": [
    "Nanoporous materials such as zeolites have pore dimensions similar to that of individual molecules and are used widely in industry as adsorbents, catalysts and chemical separation membranes. The nanoscale cavities in these materials serve as shape and size selective sites facilitating chemical reactions as well as storage, while the channels serve as molecular sieves that can be used for gas separations replacing energetically less efficient distillation processes. \n",
    "\n",
    "This notebook presents an approach outlined in [1] for generating computationally efficient digital representations of the molecular structure of nanoporous materials that are then used to compute a number of geometric and statistical descriptors for pore structures. The described methods are capable of identifying and labeling the transport relevant accessible regions in the porous crystals for any user-defined non-spherical atomic-scale morphology. These descriptors can be used as predictors for transport properties.\n",
    "\n",
    "The notebooks includes the following steps,\n",
    "\n",
    " 1. [load a cif file with the Zeolite structure](#Load-Structure-of-Interest)\n",
    " 1. [generate a voxelized representation of the molecular structure](#Generate-Voxelized-Representation-of-the-Pore-Structure)\n",
    " 1. [compute conventional pore metrics](#Compute-Conventional-Pore-Metrics---PLD-and-LCD)\n",
    " 1. [compute transport channels through the pore structure](#Geometric-and-Statistical-analysis-of-diffusion-pathways)\n",
    "\n",
    "![image of zeolite](./DDR_structure.gif)\n",
    "\n",
    "The image shows the 277x240x813 voxelized molecular structure of the unit cell of a 3D bulk zeolite (namely DDR) at a grid resolution of 0.1 Å. Red voxels correspond to oxygen and orange voxels correspond to silicon atoms."
   ]
  },
  {
   "cell_type": "code",
   "execution_count": 2,
   "metadata": {
    "scrolled": true
   },
   "outputs": [],
   "source": [
    "%load_ext autoreload\n",
    "%autoreload 2"
   ]
  },
  {
   "cell_type": "code",
   "execution_count": 3,
   "metadata": {
    "scrolled": true
   },
   "outputs": [
    {
     "name": "stdout",
     "output_type": "stream",
     "text": [
      "you can install edt for speed-up as - \n",
      "pip install edt\n"
     ]
    }
   ],
   "source": [
    "import warnings\n",
    "warnings.filterwarnings(\"ignore\")\n",
    "import os\n",
    "import ase\n",
    "import time\n",
    "import numpy as np\n",
    "import ase.io as aio\n",
    "import scipy.io as sio\n",
    "import matplotlib.pyplot as plt\n",
    "import pymks.atommks.porosity as pore\n",
    "import pymks.atommks.correlations as corr\n",
    "from pymks.atommks.grid_generator import generate_grids\n",
    "from pymks.atommks.helpers import write2vtk\n",
    "from toolz.curried import pipe, curry\n",
    "import pandas as pd\n",
    "from pathlib import Path"
   ]
  },
  {
   "cell_type": "markdown",
   "metadata": {},
   "source": [
    "## Load the Zeolite Structure\n",
    "\n",
    "In the following steps we use the `get_structure_data` function to load the ASE atom object and the corresponding atomic radii. The `get_radius` function loads the atom radii from the [Cambridge Crystlaographic Structural Database][cam]. This is used to give each atom a spherical volume in the voxelized representation of the structure.\n",
    "\n",
    "[cam]: https://www.ccdc.cam.ac.uk/support-and-resources/ccdcresources/Elemental_Radii.xlsx"
   ]
  },
  {
   "cell_type": "code",
   "execution_count": 4,
   "metadata": {
    "scrolled": true
   },
   "outputs": [],
   "source": [
    "def get_radius(atom_id, radius_type=\"vdw\"):\n",
    "    \"\"\"\n",
    "    Get the radius of the atom\n",
    "    \n",
    "    Args:\n",
    "      atom_id: element symbol\n",
    "      radius_type = \"vdw\" for Van der Waals or \"cov\" for Covalent\n",
    "      \n",
    "    Returns:\n",
    "      the atomic radius\n",
    "      \n",
    "    >>> get_radius('Na')\n",
    "    2.27\n",
    "    \n",
    "    \"\"\"\n",
    "    xl = pd.ExcelFile(\"Elemental_Radii.xlsx\")\n",
    "    df = xl.parse(sheet_name=0, header = 2, index_col=1)\n",
    "    \n",
    "    if radius_type is \"cov\":\n",
    "        key = 6\n",
    "    elif radius_type is \"vdw\":\n",
    "        key = 7\n",
    "    else:\n",
    "        raise ValueError(\"radius_type not supported\")\n",
    "    if atom_id in df.index:\n",
    "        return df.loc[atom_id][key]\n",
    "    else:\n",
    "        raise ValueError(\"Elemental symbol not found\")"
   ]
  },
  {
   "cell_type": "code",
   "execution_count": 5,
   "metadata": {},
   "outputs": [],
   "source": [
    "def get_structure_data(cif_file_path, resize_unit_cell=1):\n",
    "    \"\"\"\n",
    "    Get the ASE atom object (a molecule in many cases) and corresponding\n",
    "    radii for each atom in the molecule\n",
    "    \n",
    "    Args:\n",
    "      cif_file_path: path to the CIF file\n",
    "      resize_unit_cell: allows a resize of the atom object\n",
    "      \n",
    "    Returns:\n",
    "      a tuple of the ASE atom object and dictionary of atom radii\n",
    "    \n",
    "    >>> get_structure_data('iza_zeolites/DDR.cif')[0].get_cell_lengths_and_angles()\n",
    "    array([ 27.59,  27.59,  81.5 ,  90.  ,  90.  , 120.  ])\n",
    "    \n",
    "    \"\"\"\n",
    "    ase_atom = aio.read(cif_file_path).repeat([resize_unit_cell] * 3)\n",
    "    atom_ids = sorted(np.unique(ase_atom.get_chemical_symbols()))\n",
    "    return (\n",
    "        ase_atom,\n",
    "        {idx:get_radius(idx) for idx in atom_ids}\n",
    "    )"
   ]
  },
  {
   "cell_type": "code",
   "execution_count": 6,
   "metadata": {},
   "outputs": [],
   "source": [
    "ase_atom, radii = get_structure_data(Path(\"iza_zeolites/DDR.cif\"), 2)"
   ]
  },
  {
   "cell_type": "markdown",
   "metadata": {},
   "source": [
    "The ASE atom object"
   ]
  },
  {
   "cell_type": "code",
   "execution_count": 7,
   "metadata": {},
   "outputs": [
    {
     "data": {
      "text/plain": [
       "Atoms(symbols='O1920Si960', pbc=True, cell=[[27.59, 0.0, 0.0], [-13.794999999999995, 23.893640890412662, 0.0], [0.0, 0.0, 81.5]], spacegroup_kinds=...)"
      ]
     },
     "execution_count": 7,
     "metadata": {},
     "output_type": "execute_result"
    }
   ],
   "source": [
    "ase_atom"
   ]
  },
  {
   "cell_type": "markdown",
   "metadata": {},
   "source": [
    "The atomic radii of the atoms types in the structure."
   ]
  },
  {
   "cell_type": "code",
   "execution_count": 8,
   "metadata": {},
   "outputs": [
    {
     "data": {
      "text/plain": [
       "{'O': 1.52, 'Si': 2.1}"
      ]
     },
     "execution_count": 8,
     "metadata": {},
     "output_type": "execute_result"
    }
   ],
   "source": [
    "radii"
   ]
  },
  {
   "cell_type": "markdown",
   "metadata": {},
   "source": [
    "Number of atoms in the structure."
   ]
  },
  {
   "cell_type": "code",
   "execution_count": 9,
   "metadata": {},
   "outputs": [
    {
     "data": {
      "text/plain": [
       "2880"
      ]
     },
     "execution_count": 9,
     "metadata": {},
     "output_type": "execute_result"
    }
   ],
   "source": [
    "len(ase_atom)"
   ]
  },
  {
   "cell_type": "markdown",
   "metadata": {},
   "source": [
    "## Generate Voxelized Representation of the Pore Structure\n",
    "\n",
    "The `generate_grids` function generates a voxelized representation of the structure. It returns a dictionary of grids with each grid representing a possible state of the system. Each voxel can only be in one of these states. `n_pixel` represents the number of pixels in a unit length defined used in `ase_atom` (generally Å)."
   ]
  },
  {
   "cell_type": "code",
   "execution_count": 15,
   "metadata": {},
   "outputs": [],
   "source": [
    "grid_data = generate_grids(\n",
    "    ase_atom,\n",
    "    n_pixel=10,\n",
    "    atomic_radii=radii,\n",
    "    extend_boundary_atoms=False,\n",
    "    use_fft_method=False\n",
    ")"
   ]
  },
  {
   "cell_type": "markdown",
   "metadata": {},
   "source": [
    "The keys represent the possible states of the system. Here we have `pores` for empty voxels, `O` for oxygen and `Si` for Silicon."
   ]
  },
  {
   "cell_type": "code",
   "execution_count": 18,
   "metadata": {},
   "outputs": [
    {
     "data": {
      "text/plain": [
       "dict_keys(['pores', 'n_pixel', 'O', 'Si'])"
      ]
     },
     "execution_count": 18,
     "metadata": {},
     "output_type": "execute_result"
    }
   ],
   "source": [
    "grid_data.keys()"
   ]
  },
  {
   "cell_type": "markdown",
   "metadata": {},
   "source": [
    "The size of the grids are 277x240x813 voxels, which is sufficent to capture the 2x2x2 sized representation at the resolution of 0.1 Å (`n_pixel` defines 10 pixels per Å)"
   ]
  },
  {
   "cell_type": "code",
   "execution_count": 12,
   "metadata": {},
   "outputs": [
    {
     "data": {
      "text/plain": [
       "(277, 240, 813)"
      ]
     },
     "execution_count": 12,
     "metadata": {},
     "output_type": "execute_result"
    }
   ],
   "source": [
    "grid_data['pores'].shape"
   ]
  },
  {
   "cell_type": "markdown",
   "metadata": {},
   "source": [
    "### Compute Conventional Pore Metrics - PLD and LCD"
   ]
  },
  {
   "cell_type": "code",
   "execution_count": 20,
   "metadata": {},
   "outputs": [
    {
     "data": {
      "text/plain": [
       "array([[[0. , 0. , 0. , ..., 0. , 0. , 0. ],\n",
       "        [0. , 0. , 0. , ..., 0. , 0. , 0. ],\n",
       "        [0. , 0. , 0. , ..., 0. , 0. , 0. ],\n",
       "        ...,\n",
       "        [0. , 0. , 0. , ..., 0. , 0. , 0. ],\n",
       "        [0. , 0. , 0. , ..., 0. , 0. , 0. ],\n",
       "        [0. , 0. , 0. , ..., 0. , 0. , 0. ]],\n",
       "\n",
       "       [[0. , 0. , 0. , ..., 0. , 0. , 0. ],\n",
       "        [0.1, 0.1, 0.1, ..., 0.1, 0.1, 0.1],\n",
       "        [0.1, 0.1, 0.1, ..., 0.1, 0.1, 0.1],\n",
       "        ...,\n",
       "        [0.1, 0.1, 0.1, ..., 0.1, 0.1, 0.1],\n",
       "        [0.1, 0.1, 0.1, ..., 0.1, 0.1, 0.1],\n",
       "        [0. , 0. , 0. , ..., 0. , 0. , 0. ]],\n",
       "\n",
       "       [[0. , 0. , 0. , ..., 0. , 0. , 0. ],\n",
       "        [0.1, 0.1, 0.1, ..., 0.1, 0.1, 0.1],\n",
       "        [0.2, 0.2, 0.2, ..., 0.2, 0.2, 0.2],\n",
       "        ...,\n",
       "        [0.2, 0.2, 0.2, ..., 0.2, 0.2, 0.2],\n",
       "        [0.1, 0.1, 0.1, ..., 0.1, 0.1, 0.1],\n",
       "        [0. , 0. , 0. , ..., 0. , 0. , 0. ]],\n",
       "\n",
       "       ...,\n",
       "\n",
       "       [[0. , 0. , 0. , ..., 0. , 0. , 0. ],\n",
       "        [0.1, 0.1, 0.1, ..., 0.1, 0.1, 0.1],\n",
       "        [0.2, 0.2, 0.2, ..., 0.2, 0.2, 0.2],\n",
       "        ...,\n",
       "        [0.2, 0.2, 0.2, ..., 0.2, 0.2, 0.2],\n",
       "        [0.1, 0.1, 0.1, ..., 0.1, 0.1, 0.1],\n",
       "        [0. , 0. , 0. , ..., 0. , 0. , 0. ]],\n",
       "\n",
       "       [[0. , 0. , 0. , ..., 0. , 0. , 0. ],\n",
       "        [0.1, 0.1, 0.1, ..., 0.1, 0.1, 0.1],\n",
       "        [0.1, 0.1, 0.1, ..., 0.1, 0.1, 0.1],\n",
       "        ...,\n",
       "        [0.1, 0.1, 0.1, ..., 0.1, 0.1, 0.1],\n",
       "        [0.1, 0.1, 0.1, ..., 0.1, 0.1, 0.1],\n",
       "        [0. , 0. , 0. , ..., 0. , 0. , 0. ]],\n",
       "\n",
       "       [[0. , 0. , 0. , ..., 0. , 0. , 0. ],\n",
       "        [0. , 0. , 0. , ..., 0. , 0. , 0. ],\n",
       "        [0. , 0. , 0. , ..., 0. , 0. , 0. ],\n",
       "        ...,\n",
       "        [0. , 0. , 0. , ..., 0. , 0. , 0. ],\n",
       "        [0. , 0. , 0. , ..., 0. , 0. , 0. ],\n",
       "        [0. , 0. , 0. , ..., 0. , 0. , 0. ]]])"
      ]
     },
     "execution_count": 20,
     "metadata": {},
     "output_type": "execute_result"
    }
   ],
   "source": [
    "S_dgrid"
   ]
  },
  {
   "cell_type": "code",
   "execution_count": 19,
   "metadata": {
    "scrolled": true
   },
   "outputs": [
    {
     "name": "stdout",
     "output_type": "stream",
     "text": [
      "distance grid computation time: 10.223s\n",
      "PLD: 2.195\n",
      "PLD computation time: 3.673s\n",
      "LCD: 7.574\n",
      "LCD computation time: 0.028s\n"
     ]
    }
   ],
   "source": [
    "strt = time.time()\n",
    "padval = ((1, 1), (1, 1), (0, 0)) \n",
    "S_dgrid = pipe(grids['pores'],\n",
    "               lambda s: np.pad(s, padval, 'constant', constant_values=0),\n",
    "               lambda s: pore.dgrid(s, len_pixel=grid_data['n_pixel']))\n",
    "end = time.time()\n",
    "print(\"distance grid computation time: %1.3fs\"%(end-strt))\n",
    "\n",
    "strt = time.time()\n",
    "pld  = pore.get_pld(S_dgrid)\n",
    "end  = time.time()\n",
    "print(\"PLD: %1.3f\" % pld)\n",
    "print(\"PLD computation time: %1.3fs\"%(end-strt))\n",
    "\n",
    "strt = time.time()\n",
    "lcd  = pore.get_lcd(S_dgrid)\n",
    "end  = time.time()\n",
    "print(\"LCD: %1.3f\" % lcd)\n",
    "print(\"LCD computation time: %1.3fs\"%(end-strt))"
   ]
  },
  {
   "cell_type": "markdown",
   "metadata": {},
   "source": [
    "### For PLD in a different direction"
   ]
  },
  {
   "cell_type": "code",
   "execution_count": 9,
   "metadata": {
    "scrolled": true
   },
   "outputs": [
    {
     "name": "stdout",
     "output_type": "stream",
     "text": [
      "4.3046875\n",
      "CPU times: user 10.6 s, sys: 860 ms, total: 11.5 s\n",
      "Wall time: 11.5 s\n"
     ]
    }
   ],
   "source": [
    "%%time\n",
    "padval = ((1, 1), (1, 1), (0, 0)) \n",
    "pld = pipe(S, \n",
    "           lambda s: np.rot90(s, axes=(0,2)),\n",
    "           lambda s: np.pad(s, padval, 'constant', constant_values=0),\n",
    "           lambda s: pore.dgrid(s, len_pixel=len_pixel),\n",
    "           lambda s: pore.get_pld(s))\n",
    "print(pld)"
   ]
  },
  {
   "cell_type": "markdown",
   "metadata": {},
   "source": [
    "# Geometric and Statistical analysis of diffusion pathways"
   ]
  },
  {
   "cell_type": "markdown",
   "metadata": {},
   "source": [
    "Compute the fraction of the void space within the molecular structure that is accessible to a probe molecule traversing in a particular direction\n",
    "\n",
    "- Convert admissible coordinates to graph structure\n",
    " - generate adjacency matrix from graph structure\n",
    " - use adjacency matrix to identify shortest paths\n",
    " - use a Shortest Path heuristic on the adjacency matrix to prune the medial axis network of dead ends.\n",
    " - for the pruned path, use eculidean distance from nearest atoms at each path voxel as a metric of pore size distribution"
   ]
  },
  {
   "cell_type": "markdown",
   "metadata": {},
   "source": [
    "### Extract pore volume accessible to a probe moleucle"
   ]
  },
  {
   "cell_type": "code",
   "execution_count": 10,
   "metadata": {
    "scrolled": true
   },
   "outputs": [
    {
     "name": "stdout",
     "output_type": "stream",
     "text": [
      "Pore Cleaning Computation Time: 0.801s\n"
     ]
    }
   ],
   "source": [
    "strt = time.time()\n",
    "padval = ((0, 0), (0, 0), (0, 0)) \n",
    "S_dgrid = pipe(S,\n",
    "               lambda s: np.pad(s, padval, 'constant', constant_values=0),\n",
    "               lambda s: pore.dgrid(s, len_pixel=len_pixel))\n",
    "end = time.time()\n",
    "\n",
    "strt = time.time()\n",
    "S_1 = (pore.gen_cleanPore(S_dgrid, r_probe=1.0, r_min=2.5, len_pixel=len_pixel) > 0) * 1\n",
    "end = time.time()\n",
    "print(\"Pore Cleaning Computation Time: %1.3fs\" % (end-strt))"
   ]
  },
  {
   "cell_type": "code",
   "execution_count": 11,
   "metadata": {
    "scrolled": true
   },
   "outputs": [
    {
     "name": "stdout",
     "output_type": "stream",
     "text": [
      "CPU times: user 12.9 s, sys: 992 ms, total: 13.9 s\n",
      "Wall time: 13.9 s\n"
     ]
    }
   ],
   "source": [
    "%%time\n",
    "# To generate vtk file of the accessible void region for visualization\n",
    "write2vtk(S_1, \"%s_pore.vtk\" % cif)"
   ]
  },
  {
   "cell_type": "markdown",
   "metadata": {},
   "source": [
    "### Compute 2 Point Statistics of the accessible pore region"
   ]
  },
  {
   "cell_type": "code",
   "execution_count": 12,
   "metadata": {
    "scrolled": true
   },
   "outputs": [],
   "source": [
    "# %%time\n",
    "# GG_poreAcc = corr.compute_statistics(boundary=\"nonperiodic\", corrtype=\"auto\", cutoff=120, args0=S_1)"
   ]
  },
  {
   "cell_type": "code",
   "execution_count": 13,
   "metadata": {
    "scrolled": true
   },
   "outputs": [
    {
     "name": "stdout",
     "output_type": "stream",
     "text": [
      "CPU times: user 1e+03 ns, sys: 0 ns, total: 1e+03 ns\n",
      "Wall time: 3.34 µs\n"
     ]
    }
   ],
   "source": [
    "%%time\n",
    "# GG_poreAll = corr.compute_statistics(boundary=\"nonperiodic\", corrtype=\"auto\", cutoff=120, args0=S)\n",
    "# GG_pore_O  = corr.compute_statistics(boundary=\"nonperiodic\", corrtype=\"cross\", cutoff=120, args0=S, args1=S_list[0])\n",
    "# GG_pore_Si = corr.compute_statistics(boundary=\"nonperiodic\", corrtype=\"cross\", cutoff=120, args0=S, args1=S_list[1])"
   ]
  },
  {
   "cell_type": "code",
   "execution_count": 14,
   "metadata": {
    "scrolled": true
   },
   "outputs": [],
   "source": [
    "# To generate vtk file of the accessible void region for visualization\n",
    "# write2vtk(GG_poreAll, \"%s_pore_stat.vtk\" % cif)"
   ]
  },
  {
   "cell_type": "markdown",
   "metadata": {},
   "source": [
    "### Generate skeletonized representation of pore structure"
   ]
  },
  {
   "cell_type": "code",
   "execution_count": 15,
   "metadata": {
    "scrolled": true
   },
   "outputs": [
    {
     "name": "stdout",
     "output_type": "stream",
     "text": [
      "Medial Path Computation Time: 35.707s\n"
     ]
    }
   ],
   "source": [
    "strt = time.time()\n",
    "S_2 = pipe(S_1, \n",
    "           lambda x: np.pad(x, pad_width=((0,0),(0,0),(len_pixel, len_pixel)), mode = \"constant\", constant_values=1), \n",
    "           lambda x: pore.gen_medialAxis(x)[:,:,len_pixel:-len_pixel])\n",
    "end = time.time()\n",
    "print(\"Medial Path Computation Time: %1.3fs\" % (end-strt))"
   ]
  },
  {
   "cell_type": "markdown",
   "metadata": {},
   "source": [
    "### Compute Shortest Paths connecting opposing faces of the molecular structure"
   ]
  },
  {
   "cell_type": "code",
   "execution_count": 16,
   "metadata": {
    "scrolled": false
   },
   "outputs": [
    {
     "name": "stdout",
     "output_type": "stream",
     "text": [
      "Through Path Computation Time: 13.506s\n",
      "Mean and setdev of path lengths: 3.606, 0.438\n"
     ]
    }
   ],
   "source": [
    "strt = time.time()\n",
    "S_3, paths = pore.gen_throughPath(S_2, depth=1)\n",
    "end = time.time()\n",
    "print(\"Through Path Computation Time: %1.3fs\" % (end-strt))\n",
    "print(\"Mean and setdev of path lengths: %1.3f, %1.3f\" % (np.mean(paths), np.std(paths)))"
   ]
  },
  {
   "cell_type": "code",
   "execution_count": 17,
   "metadata": {
    "scrolled": true
   },
   "outputs": [
    {
     "name": "stdout",
     "output_type": "stream",
     "text": [
      "No. of unique channels: 1\n"
     ]
    }
   ],
   "source": [
    "n_channels = len(pore.return_labelled(S_1)[-1])\n",
    "print(\"No. of unique channels: %d\" % n_cha                                                                                                                                                                                                                                                                                                                                                                                                                                                                          nnels)"
   ]
  },
  {
   "cell_type": "code",
   "execution_count": 18,
   "metadata": {
    "scrolled": true
   },
   "outputs": [
    {
     "name": "stdout",
     "output_type": "stream",
     "text": [
      "CPU times: user 13.1 s, sys: 1.04 s, total: 14.2 s\n",
      "Wall time: 14.3 s\n"
     ]
    }
   ],
   "source": [
    "%%time\n",
    "# to generate vtk file of the medial path for visualization\n",
    "write2vtk(S_3, \"%s_through_path.vtk\" % cif)"
   ]
  },
  {
   "cell_type": "markdown",
   "metadata": {},
   "source": [
    "### Compute accessible surface area and volume"
   ]
  },
  {
   "cell_type": "code",
   "execution_count": 19,
   "metadata": {
    "scrolled": true
   },
   "outputs": [
    {
     "name": "stdout",
     "output_type": "stream",
     "text": [
      "Probe Accessible Surface Area: 10701.460\n",
      "Probe Accessible Volume: 5401.031\n"
     ]
    }
   ],
   "source": [
    "asa = pore.get_asa(S_1, len_pixel=10)\n",
    "print(\"Probe Accessible Surface Area: %1.3f\" % asa)\n",
    "av = np.count_nonzero(S_1) * (1 / len_pixel)**3\n",
    "print(\"Probe Accessible Volume: %1.3f\" % av)"
   ]
  },
  {
   "cell_type": "markdown",
   "metadata": {},
   "source": [
    "### Compute pore size distribution"
   ]
  },
  {
   "cell_type": "code",
   "execution_count": 20,
   "metadata": {
    "scrolled": true
   },
   "outputs": [
    {
     "name": "stdout",
     "output_type": "stream",
     "text": [
      "Mean and setdev of pore size distribution: 2.051, 0.397\n"
     ]
    }
   ],
   "source": [
    "psd = S_dgrid[S_2==1]\n",
    "print(\"Mean and setdev of pore size distribution: %1.3f, %1.3f\" % (np.mean(psd), np.std(psd)))"
   ]
  },
  {
   "cell_type": "code",
   "execution_count": 21,
   "metadata": {
    "scrolled": true
   },
   "outputs": [
    {
     "name": "stdout",
     "output_type": "stream",
     "text": [
      "dimensions of the structure:  [40.3 39.6 26.4]\n"
     ]
    }
   ],
   "source": [
    "dim = np.asarray(S.shape) / len_pixel\n",
    "print(\"dimensions of the structure: \", dim)"
   ]
  },
  {
   "cell_type": "markdown",
   "metadata": {},
   "source": [
    "### Visualize path length distribution (length in angstrom)"
   ]
  },
  {
   "cell_type": "code",
   "execution_count": 22,
   "metadata": {
    "scrolled": true
   },
   "outputs": [
    {
     "data": {
      "image/png": "[encoded data removed]",
      "text/plain": [
       "<Figure size 432x288 with 1 Axes>"
      ]
     },
     "metadata": {
      "needs_background": "light"
     },
     "output_type": "display_data"
    }
   ],
   "source": [
    "plt.hist(paths)\n",
    "plt.show()                                                                                            "
   ]
  },
  {
   "cell_type": "markdown",
   "metadata": {},
   "source": [
    "### Visualize pore size distribution (length in angstrom)"
   ]
  },
  {
   "cell_type": "code",
   "execution_count": 23,
   "metadata": {
    "scrolled": true
   },
   "outputs": [
    {
     "data": {
      "image/png": "[encoded data removed]",
      "text/plain": [
       "<Figure size 432x288 with 1 Axes>"
      ]
     },
     "metadata": {
      "needs_background": "light"
     },
     "output_type": "display_data"
    }
   ],
   "source": [
    "plt.hist(psd)\n",
    "plt.show()"
   ]
  },
  {
   "cell_type": "code",
   "execution_count": null,
   "metadata": {},
   "outputs": [],
   "source": []
  },
  {
   "cell_type": "code",
   "execution_count": null,
   "metadata": {},
   "outputs": [],
   "source": []
  }
 ],
 "metadata": {
  "kernelspec": {
   "display_name": "Python 3",
   "language": "python",
   "name": "python3"
  },
  "language_info": {
   "codemirror_mode": {
    "name": "ipython",
    "version": 3
   },
   "file_extension": ".py",
   "mimetype": "text/x-python",
   "name": "python",
   "nbconvert_exporter": "python",
   "pygments_lexer": "ipython3",
   "version": "3.8.6"
  }
 },
 "nbformat": 4,
 "nbformat_minor": 2
}
