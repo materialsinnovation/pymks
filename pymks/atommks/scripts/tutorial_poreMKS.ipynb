{
 "cells": [
  {
   "cell_type": "markdown",
   "metadata": {},
   "source": [
    "# Generate Molecular Structure Descriptors for a Zeolite"
   ]
  },
  {
   "cell_type": "markdown",
   "metadata": {},
   "source": [
    "Nanoporous materials such as zeolites have pore dimensions similar to that of individual molecules and are used widely in industry as adsorbents, catalysts and chemical separation membranes. The nanoscale cavities in these materials serve as shape and size selective sites facilitating chemical reactions as well as storage, while the channels serve as molecular sieves that can be used for gas separations replacing energetically less efficient distillation processes. \n",
    "\n",
    "This notebook presents an approach outlined in [1] for generating computationally efficient digital representations of the molecular structure of nanoporous materials that are then used to compute a number of geometric and statistical descriptors for pore structures. The described methods are capable of identifying and labeling the transport relevant accessible regions in the porous crystals for any user-defined non-spherical atomic-scale morphology. These descriptors can be used as predictors for transport properties.\n",
    "\n",
    "The notebooks includes the following steps,\n",
    "\n",
    " 1. [load a cif file with the Zeolite structure](#Load-Structure-of-Interest)\n",
    " 1. [generate a voxelized representation of the molecular structure](#Generate-Voxelized-Representation-of-the-Pore-Structure)\n",
    " 1. [compute conventional pore metrics](#Compute-Conventional-Pore-Metrics---PLD-and-LCD)\n",
    " 1. [compute transport channels through the pore structure](#Geometric-and-Statistical-analysis-of-diffusion-pathways)\n",
    "\n",
    "![image of zeolite](./DDR_structure.gif)\n",
    "\n",
    "The image shows the 277x240x813 voxelized molecular structure of the unit cell of a 3D bulk zeolite (namely DDR) at a grid resolution of 0.1 Å. Red voxels correspond to oxygen and orange voxels correspond to silicon atoms."
   ]
  },
  {
   "cell_type": "code",
   "execution_count": 1,
   "metadata": {
    "scrolled": true
   },
   "outputs": [],
   "source": [
    "%load_ext autoreload\n",
    "%autoreload 2"
   ]
  },
  {
   "cell_type": "code",
   "execution_count": 2,
   "metadata": {
    "scrolled": true
   },
   "outputs": [],
   "source": [
    "import warnings\n",
    "warnings.filterwarnings(\"ignore\")\n",
    "import os\n",
    "import ase\n",
    "import time\n",
    "import numpy as np\n",
    "import ase.io as aio\n",
    "import scipy.io as sio\n",
    "import matplotlib.pyplot as plt\n",
    "import pymks.atommks.porosity as pore\n",
    "import pymks.atommks.correlations as corr\n",
    "from pymks.atommks.grid_generator import generate_grids\n",
    "from pymks.atommks.helpers import write2vtk\n",
    "from toolz.curried import pipe, curry, compose\n",
    "import pandas as pd\n",
    "from pathlib import Path\n",
    "\n",
    "np.set_printoptions(precision=1)"
   ]
  },
  {
   "cell_type": "markdown",
   "metadata": {},
   "source": [
    "## Load the Zeolite Structure\n",
    "\n",
    "In the following steps we use the `get_structure_data` function to load the ASE atom object and the corresponding atomic radii. The `get_radius` function loads the atom radii from the [Cambridge Crystlaographic Structural Database][cam]. This is used to give each atom a spherical volume in the voxelized representation of the structure.\n",
    "\n",
    "[cam]: https://www.ccdc.cam.ac.uk/support-and-resources/ccdcresources/Elemental_Radii.xlsx"
   ]
  },
  {
   "cell_type": "code",
   "execution_count": 3,
   "metadata": {
    "scrolled": true
   },
   "outputs": [],
   "source": [
    "def get_radius(atom_id, radius_type=\"vdw\"):\n",
    "    \"\"\"\n",
    "    Get the radius of the atom\n",
    "    \n",
    "    Args:\n",
    "      atom_id: element symbol\n",
    "      radius_type = \"vdw\" for Van der Waals or \"cov\" for Covalent\n",
    "      \n",
    "    Returns:\n",
    "      the atomic radius\n",
    "      \n",
    "    >>> get_radius('Na')\n",
    "    2.27\n",
    "    \"\"\"\n",
    "    xl = pd.ExcelFile(\"Elemental_Radii.xlsx\")\n",
    "    df = xl.parse(sheet_name=0, header = 2, index_col=1)\n",
    "    \n",
    "    if radius_type is \"cov\":\n",
    "        key = 6\n",
    "    elif radius_type is \"vdw\":\n",
    "        key = 7\n",
    "    else:\n",
    "        raise ValueError(\"radius_type not supported\")\n",
    "    if atom_id in df.index:\n",
    "        return df.loc[atom_id][key]\n",
    "    else:\n",
    "        raise ValueError(\"Elemental symbol not found\")"
   ]
  },
  {
   "cell_type": "code",
   "execution_count": 4,
   "metadata": {},
   "outputs": [],
   "source": [
    "def get_structure_data(cif_file_path, resize_unit_cell=1):\n",
    "    \"\"\"\n",
    "    Get the ASE atom object (a molecule in many cases) and corresponding\n",
    "    radii for each atom in the molecule\n",
    "    \n",
    "    Args:\n",
    "      cif_file_path: path to the CIF file\n",
    "      resize_unit_cell: allows a resize of the atom object\n",
    "      \n",
    "    Returns:\n",
    "      a tuple of the ASE atom object and dictionary of atom radii\n",
    "    \n",
    "    >>> get_structure_data('iza_zeolites/DDR.cif')[0].get_cell_lengths_and_angles()\n",
    "    array([ 27.59,  27.59,  81.5 ,  90.  ,  90.  , 120.  ])\n",
    "    \n",
    "    \"\"\"\n",
    "    ase_atom = aio.read(cif_file_path).repeat(resize_unit_cell if hasattr(resize_unit_cell, \"__len__\") else [resize_unit_cell] * 3)\n",
    "    atom_ids = sorted(np.unique(ase_atom.get_chemical_symbols()))\n",
    "    return (\n",
    "        ase_atom,\n",
    "        {idx:get_radius(idx) for idx in atom_ids}\n",
    "    )"
   ]
  },
  {
   "cell_type": "code",
   "execution_count": 5,
   "metadata": {},
   "outputs": [],
   "source": [
    "file_path = \"../../../../structures/zz_LEVff-[1,1,0]-L-0.235821_0-U-0.758686_0-ss-19.309257903.cif\"\n",
    "cif = file_path.split(\"/\")[-1][:-4]\n",
    "ase_atom, radii = get_structure_data(Path(file_path), [2, 2, 1])\n",
    "\n",
    "# file_path = \"iza_zeolites/MFI.cif\"\n",
    "# cif = file_path.split(\"/\")[-1][:-4]\n",
    "# ase_atom, radii = get_structure_data(Path(file_path), 2)"
   ]
  },
  {
   "cell_type": "markdown",
   "metadata": {},
   "source": [
    "The ASE atom object"
   ]
  },
  {
   "cell_type": "code",
   "execution_count": 6,
   "metadata": {},
   "outputs": [
    {
     "data": {
      "text/plain": [
       "Atoms(symbols='H144O1368Si648', pbc=True, cell=[[45.62710066, 0.0, 0.0], [0.0, 44.58580622, 0.0], [0.0, -69.64149982743176, 40.2092872550728]], spacegroup_kinds=...)"
      ]
     },
     "execution_count": 6,
     "metadata": {},
     "output_type": "execute_result"
    }
   ],
   "source": [
    "ase_atom"
   ]
  },
  {
   "cell_type": "markdown",
   "metadata": {},
   "source": [
    "The atomic radii of the atoms types in the structure."
   ]
  },
  {
   "cell_type": "code",
   "execution_count": 7,
   "metadata": {},
   "outputs": [
    {
     "data": {
      "text/plain": [
       "{'H': 1.09, 'O': 1.52, 'Si': 2.1}"
      ]
     },
     "execution_count": 7,
     "metadata": {},
     "output_type": "execute_result"
    }
   ],
   "source": [
    "radii"
   ]
  },
  {
   "cell_type": "markdown",
   "metadata": {},
   "source": [
    "Number of atoms in the structure."
   ]
  },
  {
   "cell_type": "code",
   "execution_count": 8,
   "metadata": {},
   "outputs": [
    {
     "data": {
      "text/plain": [
       "2160"
      ]
     },
     "execution_count": 8,
     "metadata": {},
     "output_type": "execute_result"
    }
   ],
   "source": [
    "len(ase_atom)"
   ]
  },
  {
   "cell_type": "markdown",
   "metadata": {},
   "source": [
    "## Generate Voxelized Representation of the Pore Structure\n",
    "\n",
    "The `generate_grids` function generates a voxelized representation of the structure. It returns a dictionary of grids with each grid representing a possible state of the system. Each voxel can only be in one of these states. `n_pixel` represents the number of pixels in a unit length defined used in `ase_atom` (generally Å)."
   ]
  },
  {
   "cell_type": "code",
   "execution_count": 9,
   "metadata": {},
   "outputs": [],
   "source": [
    "grid_data = generate_grids(\n",
    "    ase_atom,\n",
    "    n_pixel=10,\n",
    "    atomic_radii=radii,\n",
    "    extend_boundary_atoms=False,\n",
    "    use_fft_method=False\n",
    ")"
   ]
  },
  {
   "cell_type": "markdown",
   "metadata": {},
   "source": [
    "The keys represent the possible states of the system. Here we have `pores` for empty voxels, `O` for oxygen and `Si` for Silicon."
   ]
  },
  {
   "cell_type": "code",
   "execution_count": 10,
   "metadata": {},
   "outputs": [
    {
     "data": {
      "text/plain": [
       "dict_keys(['pores', 'n_pixel', 'H', 'O', 'Si'])"
      ]
     },
     "execution_count": 10,
     "metadata": {},
     "output_type": "execute_result"
    }
   ],
   "source": [
    "grid_data.keys()"
   ]
  },
  {
   "cell_type": "markdown",
   "metadata": {},
   "source": [
    "The size of the grids are 277x240x813 voxels, which is sufficent to capture the 2x2x2 sized representation at the resolution of 0.1 Å (`n_pixel` defines 10 pixels per Å)"
   ]
  },
  {
   "cell_type": "code",
   "execution_count": 11,
   "metadata": {},
   "outputs": [
    {
     "data": {
      "text/plain": [
       "(442, 438, 204)"
      ]
     },
     "execution_count": 11,
     "metadata": {},
     "output_type": "execute_result"
    }
   ],
   "source": [
    "grid_data['pores'].shape"
   ]
  },
  {
   "cell_type": "markdown",
   "metadata": {},
   "source": [
    "## Compute Conventional Pore Metrics - PLD and LCD\n",
    "\n",
    "Here we compute two pore metrics, the pore limiting diameter (PLD) and the largest cavity diameter (LCD). The PLD refers to the maximum size of a molecule that can pass through the structure in a particular direction.\n",
    "\n",
    "We use the `calc_pore_metrics` function to calculate the pore metrics. Internally, this uses the Euclidean distance from the pore phase to the nearest atom. This calculation is direction dependent as the PLD \n",
    "calculation simulates a probe molecule traversing the structure in a particular direction (by default the direction is assumed to be the last axis, i.e. z-direction for 3D structures)."
   ]
  },
  {
   "cell_type": "code",
   "execution_count": 12,
   "metadata": {},
   "outputs": [],
   "source": [
    "metrics = pore.calc_pore_metrics(grid_data['pores'], n_pixel=grid_data['n_pixel'])"
   ]
  },
  {
   "cell_type": "code",
   "execution_count": 13,
   "metadata": {},
   "outputs": [
    {
     "data": {
      "text/plain": [
       "{'pld': 2.8984375,\n",
       " 'lcd': 6.62117862701416,\n",
       " 'asa': 19501.530000000002,\n",
       " 'av': 11308.263000000003}"
      ]
     },
     "execution_count": 13,
     "metadata": {},
     "output_type": "execute_result"
    }
   ],
   "source": [
    "metrics"
   ]
  },
  {
   "cell_type": "markdown",
   "metadata": {},
   "source": [
    "{'pld': 2.8984375,\n",
    " 'lcd': 6.62117862701416,\n",
    " 'asa': 19446.270000000004,\n",
    " 'av': 11304.258000000003}"
   ]
  },
  {
   "cell_type": "markdown",
   "metadata": {},
   "source": [
    "The PLD values will be different in the x-direction for example (`axis=0` signifies the x-direction)."
   ]
  },
  {
   "cell_type": "code",
   "execution_count": 27,
   "metadata": {},
   "outputs": [],
   "source": [
    "metrics_x = pore.calc_pore_metrics(grid_data['pores'], n_pixel=grid_data['n_pixel'], axis=0)"
   ]
  },
  {
   "cell_type": "code",
   "execution_count": 15,
   "metadata": {},
   "outputs": [
    {
     "data": {
      "text/plain": [
       "{'pld': 2.0546875,\n",
       " 'lcd': 6.206448554992676,\n",
       " 'asa': 20406.390000000003,\n",
       " 'av': 10614.227000000003}"
      ]
     },
     "execution_count": 15,
     "metadata": {},
     "output_type": "execute_result"
    }
   ],
   "source": [
    "metrics_x"
   ]
  },
  {
   "cell_type": "markdown",
   "metadata": {},
   "source": [
    "{'pld': 2.0546875,\n",
    " 'lcd': 6.206448554992676,\n",
    " 'asa': 20371.970000000005,\n",
    " 'av': 10612.910000000002}"
   ]
  },
  {
   "cell_type": "markdown",
   "metadata": {},
   "source": [
    "## Compute unique diffusion pathways through the structure"
   ]
  },
  {
   "cell_type": "code",
   "execution_count": 14,
   "metadata": {
    "scrolled": false
   },
   "outputs": [
    {
     "name": "stdout",
     "output_type": "stream",
     "text": [
      "CPU times: user 2min 25s, sys: 1.31 s, total: 2min 26s\n",
      "Wall time: 2min 26s\n"
     ]
    }
   ],
   "source": [
    "%%time\n",
    "dists, paths, torts_list, indxs_list = pore.calc_diffusion_paths(grid_data[\"pores\"], \n",
    "                                                                 r_probe=0.0, \n",
    "                                                                 n_pixel=grid_data[\"n_pixel\"])"
   ]
  },
  {
   "cell_type": "code",
   "execution_count": 18,
   "metadata": {},
   "outputs": [],
   "source": [
    "def generate_tubular_paths(data, size=5):\n",
    "    \n",
    "    import scipy\n",
    "    \n",
    "    \n",
    "    data = np.pad(\n",
    "            data,\n",
    "            [(size, size)]*3,\n",
    "            'constant',\n",
    "            constant_values=0\n",
    "    )\n",
    "    \n",
    "    return scipy.ndimage.filters.convolve(data, \n",
    "                                          np.ones((size,)*3), \n",
    "                                          mode=\"constant\", \n",
    "                                          cval=0)[size:-size,size:-size,size:-size]"
   ]
  },
  {
   "cell_type": "code",
   "execution_count": 19,
   "metadata": {},
   "outputs": [
    {
     "name": "stdout",
     "output_type": "stream",
     "text": [
      "CPU times: user 5.71 s, sys: 185 ms, total: 5.89 s\n",
      "Wall time: 5.89 s\n"
     ]
    }
   ],
   "source": [
    "%%time\n",
    "# tubes = generate_tubular_paths((paths>0)*1)"
   ]
  },
  {
   "cell_type": "code",
   "execution_count": 20,
   "metadata": {
    "scrolled": true
   },
   "outputs": [
    {
     "name": "stdout",
     "output_type": "stream",
     "text": [
      "CPU times: user 4 µs, sys: 0 ns, total: 4 µs\n",
      "Wall time: 13.6 µs\n"
     ]
    }
   ],
   "source": [
    "%%time\n",
    "# write2vtk(tubes, \"%s_tube.vtk\" % cif)"
   ]
  },
  {
   "cell_type": "code",
   "execution_count": 34,
   "metadata": {},
   "outputs": [],
   "source": [
    "import time\n",
    "import torch\n",
    "from tqdm.notebook import tqdm\n",
    "from multiprocessing import Pool\n",
    "from itertools import combinations\n",
    "from collections import defaultdict, OrderedDict\n",
    "from canonical_paths import calc_path_distance, calc_path_distances_matrix, calc_canonical_paths"
   ]
  },
  {
   "cell_type": "code",
   "execution_count": 17,
   "metadata": {},
   "outputs": [],
   "source": [
    "dlist = [dists[indxs] for indxs in indxs_list]\n",
    "plds = [dists[indxs].min()*2 for indxs in indxs_list]\n",
    "n_pixel = 10\n",
    "dists_dict = defaultdict(list)\n",
    "for ix, (p, t) in enumerate(zip(plds, torts_list)):\n",
    "    dists_dict[(int(np.ceil(p*n_pixel)), int(np.ceil(t*n_pixel)))].append({\"psv\": dlist[ix], \"indxs\":indxs_list[ix]})\n",
    "dists_dict = OrderedDict(sorted(dists_dict.items()))"
   ]
  },
  {
   "cell_type": "code",
   "execution_count": 26,
   "metadata": {},
   "outputs": [
    {
     "data": {
      "image/png": "[encoded data removed]",
      "text/plain": [
       "<Figure size 432x288 with 1 Axes>"
      ]
     },
     "metadata": {
      "needs_background": "light"
     },
     "output_type": "display_data"
    }
   ],
   "source": [
    "plt.hist(plds, bins=1000)\n",
    "plt.show()"
   ]
  },
  {
   "cell_type": "code",
   "execution_count": 21,
   "metadata": {},
   "outputs": [
    {
     "data": {
      "text/plain": [
       "odict_keys([(3, 14), (3, 15), (3, 16), (3, 17), (3, 18), (3, 19), (3, 20), (3, 21), (3, 22), (3, 23), (3, 24), (3, 25), (3, 26), (3, 27), (3, 28), (3, 29), (3, 30), (3, 31), (3, 32), (3, 33), (3, 34), (3, 35), (3, 36), (3, 37), (3, 38), (3, 39), (3, 40), (3, 41), (3, 42), (3, 43), (3, 44), (3, 45), (3, 46), (5, 14), (5, 16), (5, 20), (5, 22), (5, 23), (5, 27), (5, 31), (7, 14), (7, 15), (7, 16), (7, 17), (7, 18), (7, 19), (7, 20), (7, 21), (7, 22), (7, 23), (7, 24), (7, 25), (7, 26), (7, 27), (7, 28), (7, 29), (7, 30), (7, 32), (7, 33), (11, 16), (11, 17), (11, 18), (11, 19), (11, 20), (11, 21), (11, 22), (11, 23), (11, 24), (11, 25), (11, 26), (11, 27), (11, 28), (11, 29), (11, 30), (11, 31), (11, 33), (11, 34), (11, 35), (12, 16), (12, 17), (12, 18), (12, 19), (12, 20), (12, 21), (12, 22), (12, 23), (12, 24), (12, 25), (12, 26), (12, 27), (12, 28), (12, 29), (12, 30), (13, 21), (17, 23), (23, 15), (23, 17), (23, 18), (23, 19), (23, 20), (23, 23), (23, 24), (24, 17), (24, 18), (24, 19), (25, 17), (25, 18), (25, 19), (26, 16), (26, 17), (26, 18), (27, 15), (27, 16), (27, 17), (27, 18), (27, 23), (27, 24)])"
      ]
     },
     "execution_count": 21,
     "metadata": {},
     "output_type": "execute_result"
    }
   ],
   "source": [
    "dists_dict.keys()"
   ]
  },
  {
   "cell_type": "code",
   "execution_count": null,
   "metadata": {},
   "outputs": [
    {
     "name": "stdout",
     "output_type": "stream",
     "text": [
      "(3, 14), paths: 91, elpsd: 0.481s\n",
      "(3, 15), paths: 542, elpsd: 5.674s\n",
      "(3, 16), paths: 912, elpsd: 16.398s\n",
      "(3, 17), paths: 1332, elpsd: 36.142s\n",
      "(3, 18), paths: 1731, elpsd: 60.795s\n",
      "(3, 19), paths: 1962, elpsd: 82.008s\n",
      "(3, 20), paths: 2033, elpsd: 0.000s\n",
      "(3, 21), paths: 2007, elpsd: 0.000s\n",
      "(3, 22), paths: 1789, elpsd: 71.969s\n",
      "(3, 23), paths: 1795, elpsd: 80.100s\n"
     ]
    }
   ],
   "source": [
    "canonical_dists_dict = {}\n",
    "for k, p in dists_dict.items():\n",
    "    strt = time.time()\n",
    "    if len(p) > 2000:\n",
    "        canonical_dists_dict[k] = p\n",
    "    else:\n",
    "        canonical_dists_dict[k] = calc_canonical_paths(p, n_workers=6)\n",
    "    print(f\"{k}, paths: {len(p)}, elpsd: {time.time()-strt:1.3f}s\")"
   ]
  },
  {
   "cell_type": "code",
   "execution_count": 73,
   "metadata": {},
   "outputs": [
    {
     "name": "stdout",
     "output_type": "stream",
     "text": [
      "10, elpsd: 0.213s\n",
      "50, elpsd: 0.276s\n",
      "100, elpsd: 0.470s\n",
      "250, elpsd: 1.825s\n",
      "500, elpsd: 6.422s\n",
      "1000, elpsd: 25.620s\n",
      "2000, elpsd: 103.286s\n"
     ]
    }
   ],
   "source": [
    "# test_dict = defaultdict(list)\n",
    "# for k in [10, 50, 100, 250, 500, 1000, 2000]:\n",
    "#     for ix in range(k):\n",
    "#         test_dict[k].append({\"psv\": dlist[ix], \"indxs\":indxs_list[ix]})\n",
    "#     strt = time.time()\n",
    "#     out =  get_canonical_paths(test_dict[k], n_workers=5)\n",
    "#     print(f\"{k}, elpsd: {time.time()-strt:1.3f}s\")"
   ]
  },
  {
   "cell_type": "code",
   "execution_count": 24,
   "metadata": {
    "scrolled": true
   },
   "outputs": [],
   "source": [
    "# %%time\n",
    "# l = 100\n",
    "# n_workers = 1\n",
    "# dmat2 = np.zeros((l, l))\n",
    "# for i0, (ix, iy) in enumerate(combinations(range(l), r=2)):\n",
    "#     out = dtw_distance(dlist[ix], dlist[iy])\n",
    "#     dmat2[ix, iy] = out\n",
    "#     dmat2[iy, ix] = out"
   ]
  }
 ],
 "metadata": {
  "kernelspec": {
   "display_name": "Python 3",
   "language": "python",
   "name": "python3"
  },
  "language_info": {
   "codemirror_mode": {
    "name": "ipython",
    "version": 3
   },
   "file_extension": ".py",
   "mimetype": "text/x-python",
   "name": "python",
   "nbconvert_exporter": "python",
   "pygments_lexer": "ipython3",
   "version": "3.8.5"
  }
 },
 "nbformat": 4,
 "nbformat_minor": 2
}
