{
 "cells": [
  {
   "cell_type": "markdown",
   "metadata": {},
   "source": [
    "# Generate Molecular Structure Descriptors for a Zeolite"
   ]
  },
  {
   "cell_type": "markdown",
   "metadata": {},
   "source": [
    "Nanoporous materials such as zeolites have pore dimensions similar to that of individual molecules and are used widely in industry as adsorbents, catalysts and chemical separation membranes. The nanoscale cavities in these materials serve as shape and size selective sites facilitating chemical reactions as well as storage, while the channels serve as molecular sieves that can be used for gas separations replacing energetically less efficient distillation processes. \n",
    "\n",
    "This notebook presents an approach outlined in [1] for generating computationally efficient digital representations of the molecular structure of nanoporous materials that are then used to compute a number of geometric and statistical descriptors for pore structures. The described methods are capable of identifying and labeling the transport relevant accessible regions in the porous crystals for any user-defined non-spherical atomic-scale morphology. These descriptors can be used as predictors for transport properties.\n",
    "\n",
    "The notebooks includes the following steps,\n",
    "\n",
    " 1. [load a cif file with the Zeolite structure](#Load-Structure-of-Interest)\n",
    " 1. [generate a voxelized representation of the molecular structure](#Generate-Voxelized-Representation-of-the-Pore-Structure)\n",
    " 1. [compute conventional pore metrics](#Compute-Conventional-Pore-Metrics---PLD-and-LCD)\n",
    " 1. [compute transport channels through the pore structure](#Geometric-and-Statistical-analysis-of-diffusion-pathways)\n",
    "\n",
    "![image of zeolite](./DDR_structure.gif)\n",
    "\n",
    "The image shows the 277x240x813 voxelized molecular structure of the unit cell of a 3D bulk zeolite (namely DDR) at a grid resolution of 0.1 Å. Red voxels correspond to oxygen and orange voxels correspond to silicon atoms."
   ]
  },
  {
   "cell_type": "code",
   "execution_count": 1,
   "metadata": {
    "scrolled": true
   },
   "outputs": [],
   "source": [
    "%load_ext autoreload\n",
    "%autoreload 2"
   ]
  },
  {
   "cell_type": "code",
   "execution_count": 2,
   "metadata": {},
   "outputs": [],
   "source": [
    "import os\n",
    "import sys\n",
    "sys.path.append(\"../../../\")"
   ]
  },
  {
   "cell_type": "code",
   "execution_count": 3,
   "metadata": {
    "scrolled": true
   },
   "outputs": [],
   "source": [
    "import warnings\n",
    "warnings.filterwarnings(\"ignore\")\n",
    "import os\n",
    "import ase\n",
    "import time\n",
    "import glob\n",
    "import numpy as np\n",
    "import pandas as pd\n",
    "import ase.io as aio\n",
    "import scipy.io as sio\n",
    "from pathlib import Path\n",
    "import matplotlib.pyplot as plt\n",
    "from toolz.curried import pipe, curry, compose\n",
    "from collections import defaultdict, OrderedDict\n",
    "\n",
    "import pymks.atommks.porosity as pore\n",
    "from pymks.atommks.helpers import write2vtk\n",
    "from pymks.atommks.helpers import save_file, load_file\n",
    "from pymks.atommks.grid_generator import generate_grids\n",
    "\n",
    "from pymks.atommks.canonical_paths import calc_path_distance, calc_path_distances_matrix, calc_canonical_paths\n",
    "\n",
    "np.set_printoptions(precision=1)"
   ]
  },
  {
   "cell_type": "markdown",
   "metadata": {},
   "source": [
    "## Load the Zeolite Structure\n",
    "\n",
    "In the following steps we use the `get_structure_data` function to load the ASE atom object and the corresponding atomic radii. The `get_radius` function loads the atom radii from the [Cambridge Crystlaographic Structural Database][cam]. This is used to give each atom a spherical volume in the voxelized representation of the structure.\n",
    "\n",
    "[cam]: https://www.ccdc.cam.ac.uk/support-and-resources/ccdcresources/Elemental_Radii.xlsx"
   ]
  },
  {
   "cell_type": "code",
   "execution_count": 4,
   "metadata": {
    "scrolled": true
   },
   "outputs": [],
   "source": [
    "def get_radius(atom_id, radius_type=\"vdw\"):\n",
    "    \"\"\"\n",
    "    Get the radius of the atom\n",
    "    \n",
    "    Args:\n",
    "      atom_id: element symbol\n",
    "      radius_type = \"vdw\" for Van der Waals or \"cov\" for Covalent\n",
    "      \n",
    "    Returns:\n",
    "      the atomic radius\n",
    "      \n",
    "    >>> get_radius('Na')\n",
    "    2.27\n",
    "    \"\"\"\n",
    "    xl = pd.ExcelFile(\"Elemental_Radii.xlsx\")\n",
    "    df = xl.parse(sheet_name=0, header = 2, index_col=1)\n",
    "    \n",
    "    if radius_type is \"cov\":\n",
    "        key = 6\n",
    "    elif radius_type is \"vdw\":\n",
    "        key = 7\n",
    "    else:\n",
    "        raise ValueError(\"radius_type not supported\")\n",
    "    if atom_id in df.index:\n",
    "        return df.loc[atom_id][key]\n",
    "    else:\n",
    "        raise ValueError(\"Elemental symbol not found\")"
   ]
  },
  {
   "cell_type": "code",
   "execution_count": 5,
   "metadata": {},
   "outputs": [],
   "source": [
    "def get_structure_data(cif_file_path, resize_unit_cell=1):\n",
    "    \"\"\"\n",
    "    Get the ASE atom object (a molecule in many cases) and corresponding\n",
    "    radii for each atom in the molecule\n",
    "    \n",
    "    Args:\n",
    "      cif_file_path: path to the CIF file\n",
    "      resize_unit_cell: allows a resize of the atom object\n",
    "      \n",
    "    Returns:\n",
    "      a tuple of the ASE atom object and dictionary of atom radii\n",
    "    \n",
    "    >>> get_structure_data('iza_zeolites/DDR.cif')[0].get_cell_lengths_and_angles()\n",
    "    array([ 27.59,  27.59,  81.5 ,  90.  ,  90.  , 120.  ])\n",
    "    \n",
    "    \"\"\"\n",
    "    ase_atom = aio.read(cif_file_path).repeat(resize_unit_cell if hasattr(resize_unit_cell, \"__len__\") else [resize_unit_cell] * 3)\n",
    "    atom_ids = sorted(np.unique(ase_atom.get_chemical_symbols()))\n",
    "    return (\n",
    "        ase_atom,\n",
    "        {idx:get_radius(idx) for idx in atom_ids}\n",
    "    )\n",
    "\n",
    "def generate_tubular_paths(data, size=5):\n",
    "    \n",
    "    import scipy\n",
    "    \n",
    "    \n",
    "    data = np.pad(\n",
    "            data,\n",
    "            [(size, size)]*3,\n",
    "            'constant',\n",
    "            constant_values=0\n",
    "    )\n",
    "    \n",
    "    return scipy.ndimage.filters.convolve(data, \n",
    "                                          np.ones((size,)*3), \n",
    "                                          mode=\"constant\", \n",
    "                                          cval=0)[size:-size,size:-size,size:-size]"
   ]
  },
  {
   "cell_type": "code",
   "execution_count": 6,
   "metadata": {},
   "outputs": [],
   "source": [
    "# file_path = '../../../../structures/zz_LEVff-[1,1,0]-L-0.235821_0-U-0.758686_0-ss-19.309257903.cif'\n",
    "file_path = '../../../../structures/zz_EABff-[1,0,1]-L-0.497453_0-U-0.573212_0-ss-19.8283078267.cif'\n",
    "# file_path = '../../../../structures/zz_EABff-[1,0,1]-L-0.497628_0-U-0.497453_0-ss-19.8193628093.cif'\n",
    "# file_path = '../../../../structures/zz_AFVff-[1,0,0]-L-0.90198_0-U-0.09622_0-ss-16.4797205667.cif'\n",
    "cif = file_path.split(\"/\")[-1][:-4]\n",
    "ase_atom, radii = get_structure_data(Path(file_path), [2, 2, 1])\n",
    "\n",
    "# file_path = \"iza_zeolites/DDR.cif\"\n",
    "# cif = file_path.split(\"/\")[-1][:-4]\n",
    "# ase_atom, radii = get_structure_data(Path(file_path), 2)"
   ]
  },
  {
   "cell_type": "markdown",
   "metadata": {},
   "source": [
    "The ASE atom object"
   ]
  },
  {
   "cell_type": "code",
   "execution_count": 7,
   "metadata": {},
   "outputs": [
    {
     "data": {
      "text/plain": [
       "Atoms(symbols='H64O624Si296', pbc=True, cell=[[25.76759184, 0.0, 0.0], [12.883185040895249, 37.67747624130859, 0.0], [-29.438227264999984, -30.19773352030394, 41.0843591133424]], spacegroup_kinds=...)"
      ]
     },
     "execution_count": 7,
     "metadata": {},
     "output_type": "execute_result"
    }
   ],
   "source": [
    "ase_atom"
   ]
  },
  {
   "cell_type": "markdown",
   "metadata": {},
   "source": [
    "The atomic radii of the atoms types in the structure."
   ]
  },
  {
   "cell_type": "code",
   "execution_count": 8,
   "metadata": {},
   "outputs": [
    {
     "data": {
      "text/plain": [
       "{'H': 1.09, 'O': 1.52, 'Si': 2.1}"
      ]
     },
     "execution_count": 8,
     "metadata": {},
     "output_type": "execute_result"
    }
   ],
   "source": [
    "radii"
   ]
  },
  {
   "cell_type": "markdown",
   "metadata": {},
   "source": [
    "Number of atoms in the structure."
   ]
  },
  {
   "cell_type": "code",
   "execution_count": 9,
   "metadata": {},
   "outputs": [
    {
     "data": {
      "text/plain": [
       "984"
      ]
     },
     "execution_count": 9,
     "metadata": {},
     "output_type": "execute_result"
    }
   ],
   "source": [
    "len(ase_atom)"
   ]
  },
  {
   "cell_type": "markdown",
   "metadata": {},
   "source": [
    "## Generate Voxelized Representation of the Pore Structure\n",
    "\n",
    "The `generate_grids` function generates a voxelized representation of the structure. It returns a dictionary of grids with each grid representing a possible state of the system. Each voxel can only be in one of these states. `n_pixel` represents the number of pixels in a unit length defined used in `ase_atom` (generally Å)."
   ]
  },
  {
   "cell_type": "code",
   "execution_count": 10,
   "metadata": {},
   "outputs": [],
   "source": [
    "grid_data = generate_grids(\n",
    "    ase_atom,\n",
    "    n_pixel=10,\n",
    "    atomic_radii=radii,\n",
    "    extend_boundary_atoms=False,\n",
    "    use_fft_method=False\n",
    ")"
   ]
  },
  {
   "cell_type": "markdown",
   "metadata": {},
   "source": [
    "The keys represent the possible states of the system. Here we have `pores` for empty voxels, `O` for oxygen and `Si` for Silicon."
   ]
  },
  {
   "cell_type": "code",
   "execution_count": 11,
   "metadata": {},
   "outputs": [
    {
     "data": {
      "text/plain": [
       "dict_keys(['pores', 'n_pixel', 'H', 'O', 'Si'])"
      ]
     },
     "execution_count": 11,
     "metadata": {},
     "output_type": "execute_result"
    }
   ],
   "source": [
    "grid_data.keys()"
   ]
  },
  {
   "cell_type": "markdown",
   "metadata": {},
   "source": [
    "The size of the grids are 277x240x813 voxels, which is sufficent to capture the 2x2x2 sized representation at the resolution of 0.1 Å (`n_pixel` defines 10 pixels per Å)"
   ]
  },
  {
   "cell_type": "code",
   "execution_count": 12,
   "metadata": {},
   "outputs": [
    {
     "data": {
      "text/plain": [
       "(258, 377, 212)"
      ]
     },
     "execution_count": 12,
     "metadata": {},
     "output_type": "execute_result"
    }
   ],
   "source": [
    "grid_data['pores'].shape"
   ]
  },
  {
   "cell_type": "markdown",
   "metadata": {},
   "source": [
    "## Compute Conventional Pore Metrics - PLD and LCD\n",
    "\n",
    "Here we compute two pore metrics, the pore limiting diameter (PLD) and the largest cavity diameter (LCD). The PLD refers to the maximum size of a molecule that can pass through the structure in a particular direction.\n",
    "\n",
    "We use the `calc_pore_metrics` function to calculate the pore metrics. Internally, this uses the Euclidean distance from the pore phase to the nearest atom. This calculation is direction dependent as the PLD \n",
    "calculation simulates a probe molecule traversing the structure in a particular direction (by default the direction is assumed to be the last axis, i.e. z-direction for 3D structures)."
   ]
  },
  {
   "cell_type": "code",
   "execution_count": 13,
   "metadata": {},
   "outputs": [],
   "source": [
    "grid_data[\"distance_grid\"], metrics = pore.calc_pore_metrics(grid_data['pores'], n_pixel=grid_data['n_pixel'])"
   ]
  },
  {
   "cell_type": "code",
   "execution_count": 14,
   "metadata": {},
   "outputs": [
    {
     "data": {
      "text/plain": [
       "{'pld': 2.8984375,\n",
       " 'lcd': 7.8332624435424805,\n",
       " 'asa': 10784.220000000003,\n",
       " 'av': 6870.879000000002}"
      ]
     },
     "execution_count": 14,
     "metadata": {},
     "output_type": "execute_result"
    }
   ],
   "source": [
    "metrics"
   ]
  },
  {
   "cell_type": "markdown",
   "metadata": {},
   "source": [
    "The PLD values will be different in the x-direction for example (`axis=0` signifies the x-direction)."
   ]
  },
  {
   "cell_type": "code",
   "execution_count": 15,
   "metadata": {},
   "outputs": [],
   "source": [
    "# metrics_x = pore.calc_pore_metrics(grid_data['pores'], n_pixel=grid_data['n_pixel'], axis=0)"
   ]
  },
  {
   "cell_type": "code",
   "execution_count": 16,
   "metadata": {},
   "outputs": [],
   "source": [
    "# metrics_x"
   ]
  },
  {
   "cell_type": "markdown",
   "metadata": {},
   "source": [
    "## Compute unique diffusion pathways through the structure"
   ]
  },
  {
   "cell_type": "code",
   "execution_count": null,
   "metadata": {
    "scrolled": true
   },
   "outputs": [
    {
     "name": "stderr",
     "output_type": "stream",
     "text": [
      "4it [01:03, 24.28s/it]"
     ]
    }
   ],
   "source": [
    "%%time\n",
    "dists_dict, canonical_dists_dict = pore.calc_diffusion_paths(grid_data[\"distance_grid\"], \n",
    "                                                                    r_probe=0.0, \n",
    "                                                                    n_pixel=grid_data[\"n_pixel\"])"
   ]
  },
  {
   "cell_type": "code",
   "execution_count": null,
   "metadata": {},
   "outputs": [],
   "source": [
    "# %%time\n",
    "cif = file_path.split(\"/\")[-1][:-4]\n",
    "print(cif)\n",
    "save_file(obj=canonical_dists_dict, fname=f\"canonical_paths_dict_{cif}.pkl\")"
   ]
  },
  {
   "cell_type": "code",
   "execution_count": null,
   "metadata": {},
   "outputs": [],
   "source": [
    "# %%time\n",
    "# pores = np.zeros(grid_data[\"pores\"].shape)\n",
    "# pores[canonical_dists_dict[(28,20)][0][\"indxs\"]] = 1\n",
    "# pores = generate_tubular_paths(pores)*10\n",
    "# pores = pores + (grid_data[\"distance_grid\"] > 1.523)*1\n",
    "# write2vtk(pores, \"%s_pores.vtk\" % cif)"
   ]
  }
 ],
 "metadata": {
  "kernelspec": {
   "display_name": "Python 3",
   "language": "python",
   "name": "python3"
  },
  "language_info": {
   "codemirror_mode": {
    "name": "ipython",
    "version": 3
   },
   "file_extension": ".py",
   "mimetype": "text/x-python",
   "name": "python",
   "nbconvert_exporter": "python",
   "pygments_lexer": "ipython3",
   "version": "3.7.4"
  }
 },
 "nbformat": 4,
 "nbformat_minor": 2
}
